{
 "cells": [
  {
   "cell_type": "code",
   "execution_count": 1,
   "id": "01194fb2-f1e5-4289-a535-24200eaf9352",
   "metadata": {},
   "outputs": [
    {
     "name": "stdout",
     "output_type": "stream",
     "text": [
      "Hello, world\n"
     ]
    }
   ],
   "source": [
    "# print () function\n",
    "print(\"Hello, world\")"
   ]
  },
  {
   "cell_type": "code",
   "execution_count": 3,
   "id": "a04ff802-9083-4fab-bb42-fb8df3fe76e2",
   "metadata": {},
   "outputs": [
    {
     "data": {
      "text/plain": [
       "int"
      ]
     },
     "execution_count": 3,
     "metadata": {},
     "output_type": "execute_result"
    }
   ],
   "source": [
    "# Integer\n",
    "type(3)"
   ]
  },
  {
   "cell_type": "code",
   "execution_count": 6,
   "id": "b81023e5-6ce4-4a02-831c-eb28460aee48",
   "metadata": {},
   "outputs": [
    {
     "data": {
      "text/plain": [
       "float"
      ]
     },
     "execution_count": 6,
     "metadata": {},
     "output_type": "execute_result"
    }
   ],
   "source": [
    "# Float\n",
    "type(1.5)"
   ]
  },
  {
   "cell_type": "code",
   "execution_count": 7,
   "id": "0b0c8976-f949-4df9-acda-4773960e7e61",
   "metadata": {},
   "outputs": [
    {
     "data": {
      "text/plain": [
       "str"
      ]
     },
     "execution_count": 7,
     "metadata": {},
     "output_type": "execute_result"
    }
   ],
   "source": [
    "# String\n",
    "type(\"Loup\")"
   ]
  },
  {
   "cell_type": "code",
   "execution_count": 14,
   "id": "95a06fe2-28f7-443f-85d8-63163cded7a3",
   "metadata": {},
   "outputs": [
    {
     "data": {
      "text/plain": [
       "bool"
      ]
     },
     "execution_count": 14,
     "metadata": {},
     "output_type": "execute_result"
    }
   ],
   "source": [
    "# Boolean\n",
    "type(False)"
   ]
  },
  {
   "cell_type": "code",
   "execution_count": 15,
   "id": "1e954e5d-cc1c-4881-89f1-f278b8993792",
   "metadata": {},
   "outputs": [
    {
     "data": {
      "text/plain": [
       "list"
      ]
     },
     "execution_count": 15,
     "metadata": {},
     "output_type": "execute_result"
    }
   ],
   "source": [
    "# List\n",
    "type([1, 2, 3, 4,])"
   ]
  },
  {
   "cell_type": "code",
   "execution_count": 17,
   "id": "8fa99960-23bc-4d0d-9ade-9bc9f3f38938",
   "metadata": {},
   "outputs": [
    {
     "data": {
      "text/plain": [
       "dict"
      ]
     },
     "execution_count": 17,
     "metadata": {},
     "output_type": "execute_result"
    }
   ],
   "source": [
    "# Dictionary\n",
    "type({\"Color\" : \"Black\"})"
   ]
  },
  {
   "cell_type": "code",
   "execution_count": 18,
   "id": "48da4a5c-ff96-4243-b4da-46b76cb53195",
   "metadata": {},
   "outputs": [
    {
     "data": {
      "text/plain": [
       "tuple"
      ]
     },
     "execution_count": 18,
     "metadata": {},
     "output_type": "execute_result"
    }
   ],
   "source": [
    "# Tuple\n",
    "type((1, 2))"
   ]
  },
  {
   "cell_type": "code",
   "execution_count": 22,
   "id": "a456d9a7-5909-494f-8bd9-2f9f7a0eb0e8",
   "metadata": {},
   "outputs": [
    {
     "data": {
      "text/plain": [
       "set"
      ]
     },
     "execution_count": 22,
     "metadata": {},
     "output_type": "execute_result"
    }
   ],
   "source": [
    "# Set\n",
    "type ({1, 2, 3})"
   ]
  },
  {
   "cell_type": "code",
   "execution_count": 26,
   "id": "2124e3e9-b681-4550-adcc-8e0896f955e0",
   "metadata": {},
   "outputs": [
    {
     "data": {
      "text/plain": [
       "1.0"
      ]
     },
     "execution_count": 26,
     "metadata": {},
     "output_type": "execute_result"
    }
   ],
   "source": [
    "# Division\n",
    "2 / 2"
   ]
  },
  {
   "cell_type": "code",
   "execution_count": 27,
   "id": "9f5c73b8-25ae-4c4b-a31a-354e572fe8f0",
   "metadata": {},
   "outputs": [
    {
     "data": {
      "text/plain": [
       "1"
      ]
     },
     "execution_count": 27,
     "metadata": {},
     "output_type": "execute_result"
    }
   ],
   "source": [
    "#Floor Division\n",
    "2 // 2"
   ]
  },
  {
   "cell_type": "code",
   "execution_count": 36,
   "id": "414ee5fb-cef5-4810-9af5-89e9c62bd322",
   "metadata": {},
   "outputs": [
    {
     "data": {
      "text/plain": [
       "0"
      ]
     },
     "execution_count": 36,
     "metadata": {},
     "output_type": "execute_result"
    }
   ],
   "source": [
    "# Modulus (remainder function\n",
    "10 % 2"
   ]
  },
  {
   "cell_type": "code",
   "execution_count": null,
   "id": "9b6fa018-6fc1-4d1f-a8e2-f4532672a136",
   "metadata": {},
   "outputs": [],
   "source": []
  }
 ],
 "metadata": {
  "kernelspec": {
   "display_name": "Python 3 (ipykernel)",
   "language": "python",
   "name": "python3"
  },
  "language_info": {
   "codemirror_mode": {
    "name": "ipython",
    "version": 3
   },
   "file_extension": ".py",
   "mimetype": "text/x-python",
   "name": "python",
   "nbconvert_exporter": "python",
   "pygments_lexer": "ipython3",
   "version": "3.12.4"
  }
 },
 "nbformat": 4,
 "nbformat_minor": 5
}
