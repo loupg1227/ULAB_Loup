





# Your comments here








import numpy as np

def basic_operations(num_a, num_b):
    # Will make a dummy variable where all the operations will live:
    operations = (num_a + num_b, 
                  num_b - num_a, 
                  num_a * num_b, 
                  num_a / num_b, 
                  num_a // num_b, 
                  num_a % num_b, 
                  num_a ** num_b)
    #This function does all the operations all one line. They are very light operations so it should not be so bad.
    return operations

a = 2
b = 3
print(basic_operations(a, b))

a = 10
b = 3
print(basic_operations(a, b))

a = 5
b = 2
print(basic_operations(a, b))





# I was going to put everything in one line, however that would have probably been cluttered and very unclear. 
# Instead I decided to make it all in one line (because the operations are fairly simple) but to make it more readable I separated 
# each operations by a line break. 





import numpy as np

def incre_and_multi(number):
    number += 5 #This will increment the input by 5 and "replace" the input with the incremented value
    number *= 3 #This will multiply the incremented value by 5 and replace that value by the multiplied value.
    return number

x = 10
A = incre_and_multi(x)
print(A)

x = 3
A = incre_and_multi(x)
print(A)

x = 9
A = incre_and_multi(x)
print(A)





# I'm unsure why the test case should give 60 (maybe it's a typo and should be multiplied by 4).
# Regardless, I wanted to set up an array, but replacing the variable as the function runs instead of appending seemed easier.
# In this way, I can make the function run smoothly in one go instead of always going back to the "home variable".





import numpy as np

def range_check(X, bottom_bound, top_bound):
    return bottom_bound <= X <= top_bound #Simply put, the function just creates a short and simple comparison and returns the result of that comparison

print(range_check(5, 1, 10))

print(range_check(15, 1, 10))

print(range_check(2, 6, 12))

print(range_check(3, 1, 5))





# This is a really straightforward and very simple function. I tried to make it the least cluttered as possible and just as simple as possible
# I also tried to make the variables clear so that anyone reading knows how each variable is being compared to the others





def sentence_maker(word1, word2, word3, word4, word5):
    sentence = word1 + " " + word2 + " " + word3 + " " + word4 + " " + word5 + "."
    return sentence

a = "Here"
b = "is"
c = "your"
d = "iced"
e = "latte"
Sentence = sentence_maker(a, b, c, d, e)
print(Sentence)

a = "Physics"
b = "137A"
c = "is"
d = "too"
e = "difficult"
Sentence = sentence_maker(a, b, c, d, e)
print(Sentence)








import numpy as np

def c_to_f(temp_in_c):
    temp1 = ((temp_in_c * 9) / 5)
    temp_final = temp1 + 32
    return temp_final

x = 32
first_case = c_to_f(x)
print(first_case)



def c_to_k(temp_in_c):
    temp_in_k = temp_in_c + 273.15
    return temp_in_k

x = 30
second_case = c_to_k(x)
print(second_case)





def return_temperatures(temp1):
    temp_in_f = c_to_f(temp1)
    temp_in_k = c_to_k(temp1)
    return (temp_in_f, temp_in_k)

x = 0
print(return_temperatures(x))
# This function takes a single temperature in celsius and returns a list of both the F conversion and the K conversion





counter = 0
#This function will increment a global variable (counter) by whatever value we choose. 
def increment_by_value(x):
    #First I want to access the global variable
    global counter
    counter += x
    return counter

print(increment_by_value(4)) #First run therefore the expected result should be 4
print(increment_by_value(4)) #Second run, where counter now equals 4, so the result should be 8
print(increment_by_value(10)) #Third run, where counter now equals 8, so the result should be 18





# Your comment here
