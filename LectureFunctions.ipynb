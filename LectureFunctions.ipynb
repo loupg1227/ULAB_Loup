{
 "cells": [
  {
   "cell_type": "code",
   "execution_count": 3,
   "id": "c3fc96d3-5608-4516-9ba4-c01085475fa8",
   "metadata": {},
   "outputs": [],
   "source": [
    "import numpy as np\n",
    "import matplotlib.pyplot as plt"
   ]
  },
  {
   "cell_type": "code",
   "execution_count": 8,
   "id": "8e344ff2-759d-4f37-9e0f-304f1a775bab",
   "metadata": {},
   "outputs": [
    {
     "data": {
      "text/plain": [
       "int"
      ]
     },
     "execution_count": 8,
     "metadata": {},
     "output_type": "execute_result"
    }
   ],
   "source": [
    "type(1)"
   ]
  },
  {
   "cell_type": "code",
   "execution_count": 9,
   "id": "b9f92655-b3e1-45d4-8f08-8ee99d521703",
   "metadata": {},
   "outputs": [
    {
     "data": {
      "text/plain": [
       "'Pythonisawesome'"
      ]
     },
     "execution_count": 9,
     "metadata": {},
     "output_type": "execute_result"
    }
   ],
   "source": [
    "# You can add strings\n",
    "\"Python\" \"is\" \"awesome\""
   ]
  },
  {
   "cell_type": "code",
   "execution_count": 10,
   "id": "8414a56c-eee2-4bee-806a-a085ecbef6f3",
   "metadata": {},
   "outputs": [
    {
     "data": {
      "text/plain": [
       "'Python is awesome'"
      ]
     },
     "execution_count": 10,
     "metadata": {},
     "output_type": "execute_result"
    }
   ],
   "source": [
    "\"Python\" + \" \" + \"is\" + \" \" + \"awesome\""
   ]
  },
  {
   "cell_type": "code",
   "execution_count": 11,
   "id": "fc09b6ab-c407-4143-827f-49a25bf7da0b",
   "metadata": {},
   "outputs": [
    {
     "name": "stdout",
     "output_type": "stream",
     "text": [
      "2\n",
      "4\n",
      "6\n"
     ]
    }
   ],
   "source": [
    "# You can set up multiple variables all at once\n",
    "m, n, p = 2, 4, 6\n",
    "print(m)\n",
    "print(n)\n",
    "print(p)"
   ]
  },
  {
   "cell_type": "code",
   "execution_count": 13,
   "id": "bcaf334f-5b59-4a8f-a42f-66b0722edcaa",
   "metadata": {},
   "outputs": [
    {
     "name": "stdout",
     "output_type": "stream",
     "text": [
      "10\n",
      "10\n",
      "10\n"
     ]
    }
   ],
   "source": [
    "# You can set variables to the same value\n",
    "a = b = c = 10\n",
    "print(a)\n",
    "print(b)\n",
    "print(c)"
   ]
  },
  {
   "cell_type": "code",
   "execution_count": 15,
   "id": "0235964c-5d21-422c-971d-b0b692ae5312",
   "metadata": {},
   "outputs": [
    {
     "name": "stdout",
     "output_type": "stream",
     "text": [
      "10\n",
      "5\n"
     ]
    }
   ],
   "source": [
    "print(a)\n",
    "a = 5\n",
    "print(a)"
   ]
  },
  {
   "cell_type": "code",
   "execution_count": 18,
   "id": "9ceb9732-0de9-42af-b4b5-d58957fe91cc",
   "metadata": {},
   "outputs": [
    {
     "data": {
      "text/plain": [
       "'Hello Loup!'"
      ]
     },
     "execution_count": 18,
     "metadata": {},
     "output_type": "execute_result"
    }
   ],
   "source": [
    "# FUNCTIONS\n",
    "# Making a new function by calling def [function name](argument):\n",
    "def greet(name):\n",
    "    talk = \"Hello\" + \" \" + name + \"!\"\n",
    "    return talk\n",
    "\n",
    "greet(\"Loup\")"
   ]
  },
  {
   "cell_type": "code",
   "execution_count": 19,
   "id": "b5541377-6349-48f2-b70b-e1ae9fec43df",
   "metadata": {},
   "outputs": [
    {
     "data": {
      "text/plain": [
       "'Hello name!'"
      ]
     },
     "execution_count": 19,
     "metadata": {},
     "output_type": "execute_result"
    }
   ],
   "source": [
    "# You can call functions in different cells as well\n",
    "greet(\"name\")"
   ]
  },
  {
   "cell_type": "code",
   "execution_count": 23,
   "id": "8c0dcea3-b3da-4b82-abdf-346d858f1157",
   "metadata": {},
   "outputs": [
    {
     "data": {
      "text/plain": [
       "\"dex's favorite color is purple.\""
      ]
     },
     "execution_count": 23,
     "metadata": {},
     "output_type": "execute_result"
    }
   ],
   "source": [
    "#Functions can have default arguments\n",
    "def fav_color(color, person=\"Loup\"):\n",
    "    sentence = person + \"'s favorite color is \" + color + \".\"\n",
    "    return sentence\n",
    "\n",
    "fav_color(color=\"purple\")\n",
    "\n",
    "#But we can also overwrite these default arguments\n",
    "\n",
    "fav_color(color = \"purple\", person = \"dex\")"
   ]
  },
  {
   "cell_type": "code",
   "execution_count": 25,
   "id": "83855f1a-ee66-432d-8bea-8338997bf74d",
   "metadata": {},
   "outputs": [
    {
     "data": {
      "text/plain": [
       "12.0"
      ]
     },
     "execution_count": 25,
     "metadata": {},
     "output_type": "execute_result"
    }
   ],
   "source": [
    "#Practice good coding skills. You want good detailed names for functions\n",
    "def area_of_triangle(base, height): #This function will find the area of any triangle\n",
    "    area = (base * height) / 2\n",
    "    return area\n",
    "\n",
    "x = 4\n",
    "y = 6\n",
    "area_of_triangle(x, y)"
   ]
  },
  {
   "cell_type": "code",
   "execution_count": 29,
   "id": "6a0fca30-f15c-400e-b478-9362b4ebe07e",
   "metadata": {},
   "outputs": [
    {
     "name": "stdout",
     "output_type": "stream",
     "text": [
      "5\n",
      "5\n"
     ]
    },
    {
     "ename": "NameError",
     "evalue": "name 'z' is not defined",
     "output_type": "error",
     "traceback": [
      "\u001b[1;31m---------------------------------------------------------------------------\u001b[0m",
      "\u001b[1;31mNameError\u001b[0m                                 Traceback (most recent call last)",
      "Cell \u001b[1;32mIn[29], line 10\u001b[0m\n\u001b[0;32m      7\u001b[0m     \u001b[38;5;28mprint\u001b[39m(z)\n\u001b[0;32m      9\u001b[0m display_variable()\n\u001b[1;32m---> 10\u001b[0m \u001b[38;5;28mprint\u001b[39m(z)\n",
      "\u001b[1;31mNameError\u001b[0m: name 'z' is not defined"
     ]
    }
   ],
   "source": [
    "# Global vs Local variables. Global variable you can access anywhere in the code, no matter what cell you are in\n",
    "# Local variables only live within a specific function (think back to the Planck function you wrote a few weeks back)\n",
    "print(a) # Global variable created in cell [15]\n",
    "\n",
    "def display_variable():\n",
    "    z = 5\n",
    "    print(z)\n",
    "\n",
    "display_variable()\n",
    "print(z) # Not defined outside the function"
   ]
  },
  {
   "cell_type": "code",
   "execution_count": 33,
   "id": "771ac885-1e11-48cf-9599-1a0e480d7928",
   "metadata": {},
   "outputs": [
    {
     "name": "stdout",
     "output_type": "stream",
     "text": [
      "6\n",
      "9\n"
     ]
    }
   ],
   "source": [
    "x = 3\n",
    "x += 3\n",
    "y = x +3\n",
    "print(x)\n",
    "print(y)"
   ]
  },
  {
   "cell_type": "code",
   "execution_count": null,
   "id": "5297b43d-de2c-426b-aac2-ef933d6e5d78",
   "metadata": {},
   "outputs": [],
   "source": []
  }
 ],
 "metadata": {
  "kernelspec": {
   "display_name": "Python 3 (ipykernel)",
   "language": "python",
   "name": "python3"
  },
  "language_info": {
   "codemirror_mode": {
    "name": "ipython",
    "version": 3
   },
   "file_extension": ".py",
   "mimetype": "text/x-python",
   "name": "python",
   "nbconvert_exporter": "python",
   "pygments_lexer": "ipython3",
   "version": "3.12.4"
  }
 },
 "nbformat": 4,
 "nbformat_minor": 5
}
