





# I certify that I did not use AI tools, such as ChatGPT, to generate or write code for this assignment. All work submitted is my own and reflects my understanding of the material.





import pandas as pd





data_frame = pd.read_csv("exoplanet_data.csv", comment='#')





print(data_frame.columns)





print(list(data_frame.columns))





print(data_frame["pl_name"])





print(df["pl_name"].nunique()) # Will print the number of unique planets in the column pl_name





# Your code here





# Your code here





# Your code here





# Your comment here





# Your code here





# Your code here





# Your code here





# Your code here





# Your code here





# Your comment here





# Your comment here





# Your comment here





# Your comment here





# Your code here





# Your code here








# Your code here



