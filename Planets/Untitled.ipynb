{
 "cells": [
  {
   "cell_type": "code",
   "execution_count": 2,
   "id": "2a1f1283-eb0f-4e75-8453-8e74b730675e",
   "metadata": {},
   "outputs": [],
   "source": [
    "import numpy as np\n",
    "import matplotlib.pyplot as plt"
   ]
  },
  {
   "cell_type": "code",
   "execution_count": 5,
   "id": "feee359b-7608-4fb3-bb10-a83865b3b993",
   "metadata": {},
   "outputs": [
    {
     "data": {
      "text/plain": [
       "1.8371173070873836"
      ]
     },
     "execution_count": 5,
     "metadata": {},
     "output_type": "execute_result"
    }
   ],
   "source": [
    "# Functions review\n",
    "# Calculate orbital periods using Kepler's 3rd law\n",
    "# T^2 = a^3\n",
    "\n",
    "def orbital_period(a):\n",
    "    period = np.sqrt((a ** 3))\n",
    "    return period\n",
    "\n",
    "orbital_period(1.5)"
   ]
  },
  {
   "cell_type": "code",
   "execution_count": 7,
   "id": "5878df31-7bf8-48ca-b8d8-ed8329ec7b98",
   "metadata": {},
   "outputs": [
    {
     "data": {
      "text/plain": [
       "29821.692328460056"
      ]
     },
     "execution_count": 7,
     "metadata": {},
     "output_type": "execute_result"
    }
   ],
   "source": [
    "# v = (G * M_r / r) ** 0.5\n",
    "\n",
    "g = 6.67e-11\n",
    "M = 2e30\n",
    "r = 1.5e11\n",
    "\n",
    "def orbital_velocity():\n",
    "    velocity = np.sqrt(g * M / r)\n",
    "    return velocity\n",
    "\n",
    "orbital_velocity()"
   ]
  },
  {
   "cell_type": "code",
   "execution_count": 14,
   "id": "3a2bc16f-4eb4-4912-9bde-0c1622a595f7",
   "metadata": {},
   "outputs": [
    {
     "data": {
      "text/plain": [
       "[1.2, 2.0]"
      ]
     },
     "execution_count": 14,
     "metadata": {},
     "output_type": "execute_result"
    }
   ],
   "source": [
    "# Indexing + Conditionals\n",
    "\n",
    "radii = [1.2, 0.8, 1.5, 2.0, 1.0, 0.6]\n",
    "temp = [300, 400, 350, 280, 500, 450]\n",
    "\n",
    "def find_planets(temp, radii):\n",
    "    filtered_radii = []\n",
    "    for i in range(len(temp)): # Using range will give you the indices associated with each temperature. Range accesses the index, and not the temp themselves.\n",
    "        if temp[i] < 350: # If the temperature at the index i is less than 350, then append the index radii. \n",
    "            filtered_radii.append(radii[i])\n",
    "    return filtered_radii\n",
    "\n",
    "find_planets(temp, radii)\n",
    "\n",
    "# Range takes in a number/index, so range 5 will give us numbers 0 through 4, which is why just range(temp) doesn't work because temp is a list"
   ]
  },
  {
   "cell_type": "code",
   "execution_count": 16,
   "id": "7aaaf23c-c749-42cf-b66e-3a6be04988be",
   "metadata": {},
   "outputs": [
    {
     "name": "stdout",
     "output_type": "stream",
     "text": [
      "[1.2, 2.0]\n"
     ]
    }
   ],
   "source": [
    "# List compression\n",
    "# Same as earlier but with list compression\n",
    "\n",
    "filtered_radii = [radii[i] for i in range(len(temp)) if temp[i] < 350]\n",
    "\n",
    "radii = [1.2, 0.8, 1.5, 2.0, 1.0, 0.6]\n",
    "temp = [300, 400, 350, 280, 500, 450]\n",
    "\n",
    "print(filtered_radii)"
   ]
  },
  {
   "cell_type": "code",
   "execution_count": null,
   "id": "ff394ba9-0960-4a3d-a7cb-3795b3ead113",
   "metadata": {},
   "outputs": [],
   "source": []
  }
 ],
 "metadata": {
  "kernelspec": {
   "display_name": "Python 3 (ipykernel)",
   "language": "python",
   "name": "python3"
  },
  "language_info": {
   "codemirror_mode": {
    "name": "ipython",
    "version": 3
   },
   "file_extension": ".py",
   "mimetype": "text/x-python",
   "name": "python",
   "nbconvert_exporter": "python",
   "pygments_lexer": "ipython3",
   "version": "3.12.3"
  }
 },
 "nbformat": 4,
 "nbformat_minor": 5
}
