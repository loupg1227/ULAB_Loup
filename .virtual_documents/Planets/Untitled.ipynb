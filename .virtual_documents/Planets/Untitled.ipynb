import numpy as np
import matplotlib.pyplot as plt


# Functions review
# Calculate orbital periods using Kepler's 3rd law
# T^2 = a^3

def orbital_period(a):
    period = np.sqrt((a ** 3))
    return period

orbital_period(1.5)


# v = (G * M_r / r) ** 0.5

g = 6.67e-11
M = 2e30
r = 1.5e11

def orbital_velocity():
    velocity = np.sqrt(g * M / r)
    return velocity

orbital_velocity()


# Indexing + Conditionals

radii = [1.2, 0.8, 1.5, 2.0, 1.0, 0.6]
temp = [300, 400, 350, 280, 500, 450]

def find_planets(temp, radii):
    filtered_radii = []
    for i in range(len(temp)): # Using range will give you the indices associated with each temperature. Range accesses the index, and not the temp themselves.
        if temp[i] < 350: # If the temperature at the index i is less than 350, then append the index radii. 
            filtered_radii.append(radii[i])
    return filtered_radii

find_planets(temp, radii)

# Range takes in a number/index, so range 5 will give us numbers 0 through 4, which is why just range(temp) doesn't work because temp is a list


# List compression
# Same as earlier but with list compression

filtered_radii = [radii[i] for i in range(len(temp)) if temp[i] < 350]

radii = [1.2, 0.8, 1.5, 2.0, 1.0, 0.6]
temp = [300, 400, 350, 280, 500, 450]

print(filtered_radii)



