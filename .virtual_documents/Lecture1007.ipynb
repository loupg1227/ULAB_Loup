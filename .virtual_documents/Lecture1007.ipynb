# print () function
print("Hello, world")


# Integer
type(1)


# Float
type(1.5)


# String
type("Loup") #quotation marks makes it a string


# Boolean
type(False)


# List
type([1, 2, 3, 4,])


# Dictionary
type({"Color" : "Black"})


# Tuple
type((1, 2))


# Set
type ({1, 2, 3})


# Division
2 / 2


#Floor Division
2 // 2


# Modulus (remainder function
10 % 2



