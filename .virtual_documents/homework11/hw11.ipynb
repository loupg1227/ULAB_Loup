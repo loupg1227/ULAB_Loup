





# I certify that I did not use AI tools such as ChatGPT, to generate or write code for this assignment. All work submitted is my own and reflects my understanding of the material.





# Your code here (WITHOUT NUMPY! or any other modules/libraries/packages)

def orbital_period(a): # This function, given a distance "a" from a star, will calculate the orbital period of a planet
    distance = a ** 3
    period = distance ** 0.5
    return period






planet_a = 0.5
planet_b = 1.0
planet_c = 1.5

result1 = orbital_period(planet_a)
print(result1)

result2 = orbital_period(planet_b)
print(result2)

result3 = orbital_period(planet_c)
print(result3)





import numpy as np





# You should call Numpy only once in your Jupyter notebook, preferably at the top of the page.
# This is because once you run it in a notebook, the Numpy library will be available for all future code cells.





def new_orbital_period(a):
    period = np.sqrt(np.power(a, 3))
    return period

x = new_orbital_period(planet_a)
print(x) 





import time





planet1 = 5

# First function

start_time_first_function = time.perf_counter() # This records the time when we started the clock

orbital_period(planet1) # We run the first function with no numpy

end_time_first_function = time.perf_counter() # This records the time when we ended the clock

elapsed_time_first_function = end_time_first_function - start_time_first_function # This will tell us the difference between those 2 times

print(elapsed_time_first_function)

# Now the second function

start_time_second_function = time.perf_counter() # This records the time when we started the clock

new_orbital_period(planet1) # We run the second function with numpy

end_time_second_function = time.perf_counter() # This records the time when we ended the clock

elapsed_time_second_function = end_time_second_function - start_time_second_function # This will tell us the difference between those 2 times

print(elapsed_time_second_function)





# The function written with Numpy is faster because the math we need to calculate the orbital period is already made, so we don't have to make them
# ourselves. This tells us that Numpy is made for math calculations compared to regular python.





semi_major_axes = np.linspace(1, 2, 1000) # This makes an array of 1000 values for semi-major axis values between 1 and 2 au.

semi_major_axes_list = semi_major_axes.tolist() # This converts the array to a list






# First we run the for loop for the first function

start_time_first_function = time.perf_counter() # This records the time when we started the clock

for i in semi_major_axes_list:
    orbital_period(i)

end_time_first_function = time.perf_counter() # This records the time when we ended the clock

elapsed_time_first_function = end_time_first_function - start_time_first_function # This will tell us the difference between those 2 times

print(elapsed_time_first_function)

# Now the second function

start_time_second_function = time.perf_counter() # This records the time when we started the clock

for i in semi_major_axes_list:
    new_orbital_period(i)

end_time_second_function = time.perf_counter() # This records the time when we ended the clock

elapsed_time_second_function = end_time_second_function - start_time_second_function # This will tell us the difference between those 2 times

print(elapsed_time_second_function)





# The regular python function is faster this time around. I am not sure why it is, however if I had to guess I would say it's because every time we 
# run the Numpy function we have to call np.power and np.sqrt each time, which may slow down the process. If this is true, this means that Numpy functions
# are better when we don't have to run simple calculations over and over again (but to me this doesn't make much sense because we use Numpy with for 
# loops all the time). 








radii_list = [1.2, 0.8, 1.5, 2.0, 1.0, 0.6]
temp_list = [300, 400, 350, 280, 500, 450]

def return_radii(list_temp, list_radii): # Taking 2 arrays of radii and temperatures, this function returns the radii of the planets below T = 350K
    radii_array = [] # Creates an empty array where we will append the radii values to
    for i in range(len(list_temp)): # Indexes the temperature array into singular discrete values: [0, 1, ..., [last number]]
        if list_temp[i] < 350: # Because our temperature array is now indexed, we have to check the value of temp not by i but by list_temp[i]
            radii_array.append(list_radii[i]) # Whatever i value we are on, we will append that index value of the radii array into our empty array.

    return radii_array

print(return_radii(temp_list, radii_list))





first_three_radii = radii_list[:3] # This says to extract the elements from the list up to element 3, but not including element 3, so only elements 0,1,2
print(first_three_radii)





radii = [1.2, 0.8, 1.5, 2.0, 1.0, 0.6]
temperatures = [300, 400, 350, 280, 500, 450]

temp_and_radii_dict = dict(zip(radii, temperatures)) # I used the zip function to avoid having to pair items individually. Zip will pair elements of the same index from 2 separate lists. 
print(temp_and_radii_dict)





radii = [1.2, 0.8, 1.5, 2.0, 1.0, 0.6]
temperatures = [300, 400, 350, 280, 500, 450]
names = ["Bob", "Maddie", "Gael", "Jonathan", "Seth", "Tariq"]

named_planets_dataset = dict(zip(names, zip(radii, temperatures)))
print(named_planets_dataset)





radii = [1.2, 0.8, 1.5, 2.0, 1.0, 0.6]
temperatures = [300, 400, 350, 280, 500, 450]
names = ["Bob", "Maddie", "Gael", "Jonathan", "Seth", "Tariq"]

def return_radii(list_temp, list_radii): # Taking 2 arrays of radii and temperatures, this function returns the radii of the planets below T = 350K
    radii_array = [] # Creates an empty array where we will append the radii values to
    for i in range(len(list_temp)): # Indexes the temperature array into singular discrete values: [0, 1, ..., [last number]]
        if list_temp[i] < 350: # Because our temperature array is now indexed, we have to check the value of temp not by i but by list_temp[i]
            radii_array.append(list_radii[i]) # Whatever i value we are on, we will append that index value of the radii array into our empty array.

    return radii_array





# Your code here





# Your code here





# Your code here





# Your code here





# Your code here





# Your code here





# Your code here





# Your code here





# Your code here





# Your code here
