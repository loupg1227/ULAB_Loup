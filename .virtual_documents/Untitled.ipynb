# Scipy is basically the same shit as numpy, you can do a lot more though like integrals, stats, diff EQs, curve fits, 


# Numerical Integration of a real physics problem: force (position) F(x)
# Work = int_a^b F(x) dx
# .quad()


import numpy as np
from scipy.integrate import quad


# Define the force function
# F(x) = 5x^2 - 3x + 2

def force(x):
    return 5 * (x**2) - (3*x) + 2
    


# Now we will integrate from 0 to 5

work_done, error = quad(force, 0, 5)


print(f"Work done: {work_done:.3f} J")


# Solve differential equations
# Damped Harmonic Oscillator
# Solve initial value problem


import matplotlib.pyplot as plt
from scipy.integrate import solve_ivp


# Define system parameters

m = 1
b = 0.5
k = 4


def damped_oscillator(t, y):
    x, v = y
    dxdt = v
    dvdt = -(b/m) * v - (k/m) * x
    return [dxdt, dvdt]


# Solve the diff EQ:

t_span = (0, 20)
y0 = [1.0, 0.0]
eval = np.linspace(0, 20, 1000)

sol = solve_ivp(damped_oscillator, t_span, y0, t_evel=eval)



#Plot the solution

plt.plot(sol.t, sol.y[0], label = "Displacement")
plt.xlabel("Time")
plt.ylabel("Damped Harmonic Oscillator")
plt.legend()
plt.show()


# Model Radioactive Decay 
# N(t) = N_0 exp(-lambda t)
# What is lambda?
# curve_fit (will find the best fit parameters for us.


from scipy.optimize import curve_fit


# Simulated decay data

time = np.array([0, 2, 4, 6, 8, 10])
counts = np.array([100, 70, 62, 53, 48, 41])


# Define the decay function

def decay(t, n0, lambd):
    return n0 * np.exp(-lambd * t)


# Curve fitting now

popt, pcov = curve_fit(decay, time, counts)


n0_fit, lambda_fit = popt
print(n0_fit)
print(lambda_fit)


# Plot the results

plt.scatter(time, counts)


plt.scatter(time, counts, label = "Data")
plt.plot(time, decay(time, *popt), label = "Best fit")



