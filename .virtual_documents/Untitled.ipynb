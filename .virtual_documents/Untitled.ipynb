import numpy as np
import matplotlib.pyplot as plt


type(1)


# You can add strings
"Python" "is" "awesome"


"Python" + " " + "is" + " " + "awesome"


# You can set up multiple variables all at once
m, n, p = 2, 4, 6
print(m)
print(n)
print(p)


# You can set variables to the same value
a = b = c = 10
print(a)
print(b)
print(c)


print(a)
a = 5
print(a)


# FUNCTIONS
# Making a new function by calling def [function name](argument):
def greet(name):
    talk = "Hello" + " " + name + "!"
    return talk

greet("Loup")


# You can call functions in different cells as well
greet("name")


#Functions can have default arguments
def fav_color(color, person="Loup"):
    sentence = person + "'s favorite color is " + color + "."
    return sentence

fav_color(color="purple")

#But we can also overwrite these default arguments

fav_color(color = "purple", person = "dex")


#Practice good coding skills. You want good detailed names for functions
def area_of_triangle(base, height): #This function will find the area of any triangle
    area = (base * height) / 2
    return area

x = 4
y = 6
area_of_triangle(x, y)


# Global vs Local variables. Global variable you can access anywhere in the code, no matter what cell you are in
# Local variables only live within a specific function (think back to the Planck function you wrote a few weeks back)
print(a) # Global variable created in cell [15]

def display_variable():
    z = 5
    print(z)

display_variable()
print(z) # Not defined outside the function


x = 3
x += 3
y = x +3
print(x)
print(y)



