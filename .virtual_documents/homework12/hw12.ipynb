





# I certify that I did not use AI tools, such as ChatGPT, to generate or write code for this assignment. All work submitted is my own and reflects my understanding of the material.





import pandas as pd





data_frame = pd.read_csv("exoplanet_data.csv", comment='#')





print(data_frame.head())





print(data_frame.columns)





print(data_frame["pl_name"])





print(data_frame.shape[0])





planet_data = data_frame[['pl_name', 'pl_rade', 'pl_bmassj', 'pl_eqt']]





print(planet_data)





import matplotlib.pyplot as plt

plt.scatter(planet_data['pl_rade'], planet_data['pl_eqt'], label = "Data Points")
plt.xlabel("Exoplanet Earth Radius")
plt.ylabel("Equilibrium Temperatures")
plt.title("Exoplanet Earth Radius VS. Equilibrium Temperatures")
plt.legend()
plt.show()





# There appears to be a positive correlation: as the radius of an exoplanet goes up, so too does the equilibrium temperature.





min_temp = planet_data.min(axis = 0)['pl_eqt']
index_of_planet = planet_data[planet_data['pl_eqt'] == min_temp].index

print(planet_data['pl_name'][index_of_planet])
print(planet_data['pl_eqt'][index_of_planet])





cool_planet = planet_data.iloc[[0]]





print(cool_planet.shape[1])





new_cool_planet = cool_planet.dropna(axis = 1)





print(new_cool_planet.shape[1])





# "A temperate super-Jupiter imaged with JWST in the mid-infrared"





# The main point is that this is successful imaging of a giant exoplanet, Epsilon Indi A. The planet is also significantly cooler than other imaged
# exoplanets at around 275K, which goes well with temperature/chemical simulation models that hadn't been tested yet. 
# I believe the source can be trusted. In general (something I saw in my 7A class as well) we're forced to make many assumptions, so we can only ever
# be so accurate.
# They only rely on models and using statistics to rule out possibilities instead of having 100% certainty. In a sense this method is more economical,
# but it can lead to more errors. 





# the Jupiter masses, orbit eccentricity, temperature, semi major axis and spectral type.





# NA





# 3.5Gyr





new_cool_planet['Age'] = 3.5








new_data_frame = pd.DataFrame(new_cool_planet)
new_data_frame.to_csv('new_cool_planet.csv', index = False)



