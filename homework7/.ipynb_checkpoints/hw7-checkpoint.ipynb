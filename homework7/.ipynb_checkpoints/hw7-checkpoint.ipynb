{
 "cells": [
  {
   "cell_type": "markdown",
   "id": "21a1f0d2-d75c-4443-b816-1d1db3760454",
   "metadata": {},
   "source": [
    "# HW 7 - Libraries + Modules\n",
    "ULAB - Physics and Astronomy Division \\\n",
    "Due **Wednesday, November 6th, 2024 at 11:59pm** on Gradescope\n",
    "\n",
    "--------------------------------------------------------------\n",
    "\n",
    "## Module vs. Package vs. Library\n",
    "### Module\n",
    "A **module** is a single file containing Python code (typically ending in a `.py` extension) that contains functions and variables. \n",
    "- They can be imported into other Python files or notebooks\n",
    "- You use modules to organize code into smaller, reuseable parts\n",
    "- Ex: `even_sum.py` that we created during lecture.\n",
    "\n",
    "*You will create your OWN module for this homework and use that we made during class.*\n",
    "\n",
    "### Package\n",
    "A **package** is a group of modules, organized like a directory. \n",
    "- A package requires a special `__init__.py` file to tell Python that the ENTIRE directory is something you would like to import.\n",
    "- Packages can contain sub-pacakges\n",
    "- Ex: `BAGLE_Microlensing` is an example of a package (if you are in Dex's group, this should be familar to you). Or you could think of `paarti` if you are in Brianna's group.\n",
    "\n",
    "*You will NOT be working with a package for this homework.*\n",
    "\n",
    "### Library\n",
    "A **library** is a much broader term that also refers to a collection of modules (like a package) but a library can also contain mulitple packages. \n",
    "- Libraries serve a much wider range of functionality for\n",
    "- Programmers use packages to have ready-to-go tools that can be used for data manipulation, web development, machine learning or simulations.\n",
    "- Ex: `numpy` is a very common library. Later in this course we will also be working some of the following libraries `matplotlib`, `scipy`, and `astropy`, `pandas`, etc\n",
    "\n",
    "*You WILL be working with the extensive numpy library for this homework!*\n",
    "\n",
    "--------------------------------------------------------------"
   ]
  },
  {
   "cell_type": "markdown",
   "id": "8dc7e46b-1e8e-486c-a2e9-d615c687028b",
   "metadata": {},
   "source": [
    "# 1 NumPy\n",
    "**NumPy** (aka Numerical Python) is a library that was designed for caring out computations in Python. \n",
    "\n",
    "We did not have a ton of time to work through examples during class, so I will ask that you check out this website for more information: https://numpy.org/doc/ \n",
    "\n",
    "Before we can work through any problems, you need to call the following in your notebook:"
   ]
  },
  {
   "cell_type": "code",
   "execution_count": 1,
   "id": "08dabd73-3dbc-4aab-843a-d4b81102835d",
   "metadata": {},
   "outputs": [],
   "source": [
    "import numpy as np"
   ]
  },
  {
   "cell_type": "markdown",
   "id": "92c77920-20fc-455e-bf52-10b5a518ed2d",
   "metadata": {},
   "source": [
    "## 1.1 Lists vs. Arrays\n",
    "*When I first started working with NumPy I didn't understand what was so special about arrays. This homework problem should help illustrate the difference. Make sure to follow each step and follow good coding practices.*\n",
    "\n",
    "1) Make a list called `my_list` and make an array called `my_arr` with the same values. There is an example below, but don't copy mine! Ex:\n",
    "```\n",
    "my_list = [11, 12, 13, 14, 15]\n",
    "my_arr = np.array([11, 12, 13, 14, 15])\n",
    "```\n",
    "*Notice that to use the `numpy` package we had to call its short cut `np` and then call upon its funciton `.array()`. This is similar to working with a built-in python function like `.append()`.*"
   ]
  },
  {
   "cell_type": "code",
   "execution_count": 2,
   "id": "494f31ac-a231-4f65-b202-e85208d6bee4",
   "metadata": {},
   "outputs": [],
   "source": [
    "my_list = [3, 4, 6, 8, 10]\n",
    "my_array = np.array([2, 4, 6, 8, 10])"
   ]
  },
  {
   "cell_type": "markdown",
   "id": "861d42c4-411e-4ef9-b85c-68e1f61c4fcb",
   "metadata": {},
   "source": [
    "2) Multiply `my_list` by 4 and multiply `my_arr` by 4. Print the results. Describe what happens in a comment."
   ]
  },
  {
   "cell_type": "code",
   "execution_count": 3,
   "id": "79245f57-3a83-4300-96d2-ea7a9035d3eb",
   "metadata": {},
   "outputs": [
    {
     "name": "stdout",
     "output_type": "stream",
     "text": [
      "[3, 4, 6, 8, 10, 3, 4, 6, 8, 10, 3, 4, 6, 8, 10, 3, 4, 6, 8, 10]\n",
      "[ 8 16 24 32 40]\n"
     ]
    }
   ],
   "source": [
    "new_list = my_list * 4\n",
    "new_array = my_array * 4\n",
    "\n",
    "print(new_list)\n",
    "print(new_array)\n",
    "\n",
    "#The first command will append the list 4 times to itself: it will copy the list 4 times, making it 4 times as long with the same values always repeating\n",
    "#The second command will multiply each element in the array by 4: With an array we can change each element within the array."
   ]
  },
  {
   "cell_type": "markdown",
   "id": "aa2dc2fb-7a26-42e8-90db-18d1598f4d7c",
   "metadata": {},
   "source": [
    "3) Add `my_list` with `my_list`. Add `my_arr` with `my_arr`. Add `my_list` with `my_arr`. Print the results. Describe what happens in a comment."
   ]
  },
  {
   "cell_type": "code",
   "execution_count": 4,
   "id": "9f18f22e-3137-4aa9-b623-6d2c0caec4c3",
   "metadata": {},
   "outputs": [
    {
     "name": "stdout",
     "output_type": "stream",
     "text": [
      "[3, 4, 6, 8, 10, 3, 4, 6, 8, 10]\n",
      "[ 4  8 12 16 20]\n",
      "[ 5  8 12 16 20]\n"
     ]
    }
   ],
   "source": [
    "newer_list = my_list + my_list # Like last time, this command will append the list to itself once, doubling in size with the same values\n",
    "newer_array = my_array + my_array # Each element in the array will get added by itself once: with this, a value of 20 will become 40. \n",
    "array_and_list = my_array + my_list # This time the list is treated as an array and instead of appending to the array, it affects each element in the array.\n",
    "\n",
    "print(newer_list)\n",
    "print(newer_array)\n",
    "print(array_and_list)"
   ]
  },
  {
   "cell_type": "markdown",
   "id": "3be18720-756f-43d1-bad7-bd85e138ef7e",
   "metadata": {},
   "source": [
    "4) Subtract `my_list` with `my_list`. Subtract `my_arr` with `my_arr`. Subtract `my_list` with `my_arr`. Print the results. Describe what happens in a comment."
   ]
  },
  {
   "cell_type": "code",
   "execution_count": 5,
   "id": "ec54a7e3-f58d-46d7-9661-9ad1463b74e1",
   "metadata": {},
   "outputs": [
    {
     "ename": "TypeError",
     "evalue": "unsupported operand type(s) for -: 'list' and 'list'",
     "output_type": "error",
     "traceback": [
      "\u001b[1;31m---------------------------------------------------------------------------\u001b[0m",
      "\u001b[1;31mTypeError\u001b[0m                                 Traceback (most recent call last)",
      "Cell \u001b[1;32mIn[5], line 1\u001b[0m\n\u001b[1;32m----> 1\u001b[0m subtract_list \u001b[38;5;241m=\u001b[39m my_list \u001b[38;5;241m-\u001b[39m my_list \u001b[38;5;66;03m#When running this, I get an error message because you cannot subtract a list from another list. I will comment it out to see what would happen with the other.\u001b[39;00m\n\u001b[0;32m      2\u001b[0m \u001b[38;5;28mprint\u001b[39m(subtract_list)\n",
      "\u001b[1;31mTypeError\u001b[0m: unsupported operand type(s) for -: 'list' and 'list'"
     ]
    }
   ],
   "source": [
    "subtract_list = my_list - my_list #When running this, I get an error message because you cannot subtract a list from another list. I will comment it out to see what would happen with the other.\n",
    "print(subtract_list)"
   ]
  },
  {
   "cell_type": "code",
   "execution_count": null,
   "id": "131b09c8-d352-4566-b710-31316483ae89",
   "metadata": {},
   "outputs": [],
   "source": [
    "subtract_array = my_array - my_array # This will cause the array to be filled with zeros since it's subtracting itself, it should go down to zero\n",
    "list_and_array = my_list - my_array # This will once again make the list behave like an array, meaning we can subtract the 2 as if they were both numpy array\n",
    "\n",
    "print(subtract_array)\n",
    "print(list_and_array)"
   ]
  },
  {
   "cell_type": "markdown",
   "id": "9089eff6-4251-4a52-b263-c77b11343ece",
   "metadata": {},
   "source": [
    "5) Multiply `my_list` with `my_list`. Multply `my_arr` with `my_arr`. Multiply `my_list` with `my_arr`. Print the results. Describe what happens in a comment."
   ]
  },
  {
   "cell_type": "code",
   "execution_count": null,
   "id": "2980810b-281d-44d2-ac84-46e803783462",
   "metadata": {},
   "outputs": [],
   "source": [
    "multiply_list = my_list * my_list # This gives us an error because we cannot multiply a list with another list explicitly like this. \n",
    "\n",
    "print(multiply_list)"
   ]
  },
  {
   "cell_type": "code",
   "execution_count": null,
   "id": "cae7749f-cc6e-45d6-9e07-72aa2cefc0b6",
   "metadata": {},
   "outputs": [],
   "source": [
    "multiply_array = my_array * my_array # This will work and return a new array with each element multiplied by itself (like a square function)\n",
    "multiply_list_array = my_list * my_array # This time around the list will be treated as an array and multiply the first list element and the first array element and put this new value into a brand new array.\n",
    "\n",
    "print(multiply_array)\n",
    "print(multiply_list_array)"
   ]
  },
  {
   "cell_type": "markdown",
   "id": "55175f6e-e6b2-41b1-8015-5f1b099664e8",
   "metadata": {},
   "source": [
    "7) Divide `my_list` with `my_list`. Divide `my_arr` with `my_arr`. Divide `my_list` with `my_arr`. Print the results. Describe what happens in a comment."
   ]
  },
  {
   "cell_type": "code",
   "execution_count": 6,
   "id": "8c087066-15e4-44e7-804f-e152875660d3",
   "metadata": {},
   "outputs": [
    {
     "ename": "TypeError",
     "evalue": "unsupported operand type(s) for /: 'list' and 'list'",
     "output_type": "error",
     "traceback": [
      "\u001b[1;31m---------------------------------------------------------------------------\u001b[0m",
      "\u001b[1;31mTypeError\u001b[0m                                 Traceback (most recent call last)",
      "Cell \u001b[1;32mIn[6], line 1\u001b[0m\n\u001b[1;32m----> 1\u001b[0m divide_list \u001b[38;5;241m=\u001b[39m my_list \u001b[38;5;241m/\u001b[39m my_list \u001b[38;5;66;03m# Just like multiplication, the division operation isn't define for lists: we can't divide a list by another list\u001b[39;00m\n\u001b[0;32m      3\u001b[0m \u001b[38;5;28mprint\u001b[39m(divide_list)\n",
      "\u001b[1;31mTypeError\u001b[0m: unsupported operand type(s) for /: 'list' and 'list'"
     ]
    }
   ],
   "source": [
    "divide_list = my_list / my_list # Just like multiplication, the division operation isn't define for lists: we can't divide a list by another list\n",
    "\n",
    "print(divide_list)"
   ]
  },
  {
   "cell_type": "code",
   "execution_count": 7,
   "id": "ccdc8e13-ec41-4b79-8034-0934c012580e",
   "metadata": {},
   "outputs": [
    {
     "name": "stdout",
     "output_type": "stream",
     "text": [
      "[1. 1. 1. 1. 1.]\n",
      "[1.5 1.  1.  1.  1. ]\n"
     ]
    }
   ],
   "source": [
    "divide_array = my_array / my_array # Like multiplication, we can divide an array with itself, and get an array filled with 1's.\n",
    "divide_list_array = my_list / my_array # Again, the list will be treated as an array and we can divide the list by the array, or the array by the list.\n",
    "\n",
    "print(divide_array)\n",
    "print(divide_list_array)"
   ]
  },
  {
   "cell_type": "markdown",
   "id": "1fb261e6-b99b-4e36-953a-e899da010469",
   "metadata": {},
   "source": [
    "8) After working through this problem, in at least two sentences, describe the difference between a list and an array."
   ]
  },
  {
   "cell_type": "code",
   "execution_count": 8,
   "id": "d702ddad-c84d-43d5-9fe0-d10b9083bf85",
   "metadata": {},
   "outputs": [],
   "source": [
    "# Arrays and lists behave in different ways from each other: you cannot affect specific elements inside a list, you can only append things to this list\n",
    "# Much like how we were able to append a list 4 times by multiplying it by a scalar or adding a list onto itself, however, we cannot divide a list \n",
    "# by itself or by another list, and we cannot multiply a list by another list and affect specific elements inside the list.\n",
    "\n",
    "# With arrays, we can affect each element in it, by multiplying, dividing, adding, or subtracting by a scalar or another array. We can even do it with \n",
    "# other lists, as for some reason lists end up being treated as an array. "
   ]
  },
  {
   "cell_type": "markdown",
   "id": "fdbccced-d3f0-4948-be6e-471028979576",
   "metadata": {},
   "source": [
    "## 1.2 Nested List and Multi-Dimensional Arrays\n",
    "A **nested list** is when you have a list as an element for a list. Example:\n",
    "```\n",
    "nested_list = [[1, 2, 3], [4, 5, 6]]\n",
    "```\n",
    "\n",
    "A **multi-dimensional array** is essentially a nested list, but it contains the properties of a matrix. Example:\n",
    "```\n",
    "multi_d_array = np.array([[1, 2, 3], [4, 5, 6]])\n",
    "```\n",
    "\n",
    "Go to this website for more information on NumPy: https://www.w3schools.com/python/numpy/default.asp\n",
    "\n",
    "Write a **function** that takes in a two-dimensional array. Example:\n",
    "\n",
    "```\n",
    "arr3 = np.array([[2, 4, 6], [8, 10, 12], [14, 16, 18]])\n",
    "```\n",
    "\n",
    "and then returns the second value in each row. Example:\n",
    "\n",
    "```\n",
    "[4, 10, 16]\n",
    "```"
   ]
  },
  {
   "cell_type": "code",
   "execution_count": 9,
   "id": "e6d45993-2390-4e2d-bb6e-930919dd7d46",
   "metadata": {},
   "outputs": [
    {
     "name": "stdout",
     "output_type": "stream",
     "text": [
      "[4, 10, 16]\n"
     ]
    }
   ],
   "source": [
    "def return_second_values(two_d_array): # Function that will give us the second values back\n",
    "    second_values = [] # Creating an empty array to which we will append the second values to.\n",
    "    for i in two_d_array: # For loop that runs through each element (\"mini-array\") in the 2d-array: in this case, it will run through every \"mini-array\" as one i. \n",
    "        second_values.append(i[1]) # This means that the second element of each \"mini-array\" will be appended to the new empty array. \n",
    "\n",
    "    return second_values\n",
    "\n",
    "array = np.array([[2, 4, 6], [8, 10, 12], [14, 16, 18]])\n",
    "X = return_second_values(array)\n",
    "print(X)"
   ]
  },
  {
   "cell_type": "markdown",
   "id": "e5c0700d-def9-4afe-86f5-0a4b8862c0b4",
   "metadata": {},
   "source": [
    "In 2-3 sentences, describe what section of the website helped you write your function. "
   ]
  },
  {
   "cell_type": "code",
   "execution_count": 10,
   "id": "179c2c8d-3493-40a5-931f-7a92be8551a6",
   "metadata": {},
   "outputs": [],
   "source": [
    "# I got helped by the array slicing page, especially to figure out the appending line, where I call on the second element of each \"mini-array\" the nested list"
   ]
  },
  {
   "cell_type": "markdown",
   "id": "2bee5ead-232c-495c-8e42-1721bd315957",
   "metadata": {},
   "source": [
    "How would you take a nested list and return the second value in each row? Explain in 2-3 sentences and show an example."
   ]
  },
  {
   "cell_type": "code",
   "execution_count": 11,
   "id": "4fc3510c-5ec8-42d3-9f7c-e68b162de1e7",
   "metadata": {},
   "outputs": [
    {
     "name": "stdout",
     "output_type": "stream",
     "text": [
      "[2, 3]\n"
     ]
    }
   ],
   "source": [
    "# I think that in this case, doing the same thing that I did before would probably work:\n",
    "\n",
    "def second_element_of_nested_list(nested_list):\n",
    "    second_element = []\n",
    "    for i in nested_list:\n",
    "        second_element.append(i[1])\n",
    "    return second_element\n",
    "\n",
    "list = [[1, 2, 3], [2, 3, 4]]\n",
    "x = second_element_of_nested_list(list)\n",
    "print(x)\n",
    "\n",
    "# As I thought, what I built before will also work for a nested list. "
   ]
  },
  {
   "cell_type": "markdown",
   "id": "25eaeadc-b09d-4ca8-9849-822879abdad2",
   "metadata": {},
   "source": [
    "## 1.3 Up to You!\n",
    "With the website I just gave you: https://www.w3schools.com/python/numpy/default.asp\n",
    "\n",
    "I recommend working through the examples they provide (you don't have to do all of them, but a few would be good). It will help you build an intuition for numpy. It won't take very long, there are only a couple of examples per section.\n",
    "\n",
    "Write you own **function** that follows the theme of one of the sections (i.e. array reshaping, array filter, random intro, etc). For example, if you are curious about the section \"**NumPy Creating Arrays**\" you could write a function that creates a multi-dimensional array.\n",
    "\n",
    "```\n",
    "\n",
    ">>> def make_multi_dimensional_array(one_d_array, dimensions):\n",
    "...     # Creates a multi-dimensional array\n",
    "...     # Your code here\n",
    "...     return # Your code here\n",
    "\n",
    ">>> my_one_d_array = [2, 4, 6, 8]\n",
    ">>> my_dimension = 10\n",
    ">>> ten_d_array = make_multi_dimensional_array(my_one_d_array, my_dimension)\n",
    ">>> print(ten_d_array)\n",
    "[[[[[[[[[[2 4 6 8]]]]]]]]]]\n",
    "\n",
    "```\n",
    "\n",
    "Your function should be more detailed than the example I gave you. Include at least one of the following: \n",
    "- a conditional statement\n",
    "- an assignment operator\n",
    "- a loop (`for` or `while`)\n",
    "- `if`, `elif`, `else`, statement"
   ]
  },
  {
   "cell_type": "code",
   "execution_count": 12,
   "id": "359f524a-30ee-446c-a6d6-a57faecf5bcb",
   "metadata": {},
   "outputs": [
    {
     "name": "stdout",
     "output_type": "stream",
     "text": [
      "[[1, 5], [4, 56], [12, 97]]\n",
      "[]\n"
     ]
    }
   ],
   "source": [
    "# Let's assume that I want to build a function that takes in a nested array but that I only want the 1st and last one from this array. This function I will build should do that (inspired by the NumPy array slicing tab)\n",
    "# Also if each mini-array has 2 or less elements in it, we ignore it\n",
    "def first_and_last_element(nested_array): # Function that will take the 1st and last element of sub-arrays inside a nested array and give the first and last element only if the dimensions of those arrays exceed 2.\n",
    "    first_and_last = [] # Empty array where our values will go.\n",
    "    for i in nested_array: # For loop that will go through each element in the nested array.\n",
    "        if len(i) > 2: # Conditional that will stop the function if the array elements are less than 2. \n",
    "            first_and_last.append([i[0], i[-1]]) # This is the most important. This will append the first and last values of our arrays to our new and empty array. I learned the trick for the last variable through the numpy array slicing module. \n",
    "\n",
    "    return first_and_last\n",
    "\n",
    "array = np.array([[1, 2, 3, 4, 5], [4, 5, 23, 34, 56], [12, 45, 192, 0, 97]])\n",
    "x = first_and_last_element(array)\n",
    "print(x)\n",
    "\n",
    "# While this function does work, I realized that I kind of don't need the if statement because numpy arrays are designed to be homogeneous, so if the numpy arrays inside the nested array are 2 or less, the function just wont run\n",
    "\n",
    "array_two = np.array([[1, 2], [2, 3], [3, 4]])\n",
    "y = first_and_last_element(array_two)\n",
    "print(y)"
   ]
  },
  {
   "cell_type": "markdown",
   "id": "88df7c51-0196-42b5-aabf-5068bc6ad675",
   "metadata": {},
   "source": [
    "In the section you took inspiration from, show all of the examples below. Follow good coding practices and give at least two test cases for each example. Don't forget comments! \\\n",
    "\\\n",
    "*For my example, I took inspiration from **NumPy Creating Arrays** so I would show following examples with DIFFERENT test cases: Create a NumPy ndarray Object, Dimensions in Arrays ,0-D Arrays, 1-D Arrays, 2-D Arrays, 3-D Arrays, Check Number of Dimensions, Higher Dimensional Arrays.*"
   ]
  },
  {
   "cell_type": "code",
   "execution_count": 13,
   "id": "193b91b8-de1d-4aee-af90-6a0e10930b55",
   "metadata": {},
   "outputs": [
    {
     "name": "stdout",
     "output_type": "stream",
     "text": [
      "[2 3 4 5]\n",
      "[3]\n",
      "[3 4 5 6]\n",
      "[1 2]\n",
      "[6]\n",
      "[4 5]\n",
      "[1 3 5]\n",
      "[1 3 5]\n",
      "[7 8 9]\n",
      "[[1 2 3]\n",
      " [7 8 9]]\n",
      "[[ 1  3  5]\n",
      " [ 7  9 11]]\n"
     ]
    }
   ],
   "source": [
    "# I took inspiration from the array-slicing part\n",
    "\n",
    "array = np.array([1, 2, 3, 4, 5, 6])\n",
    "\n",
    "# Example 1: Slicing from one start index to one end index \n",
    "\n",
    "print(array[1:5]) # This is to get some aspects of the array you need within a range for example from the 1st element (which is the second) to the 5th (which is the 6th).\n",
    "print(array[2:3]) # This shows that the first entry is inclusive but the second entry will be left out, which is why there's only one output with this command\n",
    "\n",
    "# Example 2/3: Slicing from a start index to the very end of an array\n",
    "\n",
    "print(array[2:]) # This will return our array sliced from the second element (inclusively) to the end of the array\n",
    "print(array[:2]) # This will return our away but this time sliced from the beginning (0th index) until the second element (exclusively)\n",
    "\n",
    "# Example 4: We can also slice from negative values\n",
    "\n",
    "print(array[-1:]) # This is essentially the same thing as saying \"return the last element of the array\". The last element is the -1 element\n",
    "print(array[-3:-1]) # This will start at i = -3 (third from last) and go until the last element\n",
    "\n",
    "# Example 5: We can also slice with a step in between\n",
    "\n",
    "print(array[0:-1:2]) # This means to return elements of the array starting from the first element to the last but with a step of 2 in between\n",
    "print(array[::2]) # You can also do this same thing with this simpler call which like for example 2/3 will take the entire array without mentioning the start and stop indeces.\n",
    "\n",
    "\n",
    "two_d_array = np.array([[1, 2, 3, 4, 5, 6], [7, 8, 9, 10, 11, 12]])\n",
    "\n",
    "# Example 6: We can also slice elements from a nested list:\n",
    "\n",
    "print(two_d_array[1, 0:3]) # This syntax means to take the 0th and 3rd element from the second list, but we can also make it from both lists:\n",
    "print(two_d_array[:, 0:3]) # This syntax, similar to example 2, 3, 5 means from all arrays, take the 0th and 3rd element, but we can also add a step\n",
    "print(two_d_array[:, ::2]) # This means we take all \"sub-arrays\" in our bigger array and we return all elements with a 2 step."
   ]
  },
  {
   "cell_type": "markdown",
   "id": "c90148dc-cac4-4322-86ff-5b112bae306f",
   "metadata": {},
   "source": [
    "In 2-3 sentences, describe how your function took inspiration from a section.\\\n",
    "\\\n",
    "*For my example, `make_multi_dimensional_array`, I would talk about the **NumPy Creating Arrays** section and how I took inspiration from the example **Higher Dimensional Arrays**.*"
   ]
  },
  {
   "cell_type": "code",
   "execution_count": 14,
   "id": "fe11ac2d-dcdb-4e51-9460-c3cc1be48bef",
   "metadata": {},
   "outputs": [],
   "source": [
    "# I think the example that helped me the most understand the slicing is example 2/3/4 and 5. The reason for this is those seem to be the base of what \n",
    "# I needed to know to understand slicing, because once you know this you can just extrapolate and use it for nested lists. Being able to know how the \n",
    "# indexing in an array works was very useful to know how to manipulate arrays and affect only certain elements of an array"
   ]
  },
  {
   "cell_type": "markdown",
   "id": "8a834fd4-ef1b-4464-a07a-76e08a1c81c8",
   "metadata": {},
   "source": [
    "# 2 Brianna's Module\n",
    "During lecture we created and worked with a module called `even_sum.py`. Import that module here. "
   ]
  },
  {
   "cell_type": "code",
   "execution_count": 15,
   "id": "66e2a829-e478-4c97-8412-846cd93161f8",
   "metadata": {},
   "outputs": [],
   "source": [
    "import even_sum as es"
   ]
  },
  {
   "cell_type": "markdown",
   "id": "210ee2c2-9b81-4ea4-bbe7-2d1fa94d646e",
   "metadata": {},
   "source": [
    "Now that you have imported the module. Call the module and the first function with your own list of numbers. "
   ]
  },
  {
   "cell_type": "code",
   "execution_count": 16,
   "id": "89ad196d-5948-4e20-899a-d31eebdc4f2a",
   "metadata": {},
   "outputs": [
    {
     "name": "stdout",
     "output_type": "stream",
     "text": [
      "20\n"
     ]
    }
   ],
   "source": [
    "X = ([1, 2, 3, 4, 5, 6, 7, 8])\n",
    "print(es.sum_even_numbers(X))"
   ]
  },
  {
   "cell_type": "markdown",
   "id": "110d3cb8-b809-467b-9447-57810e4e3853",
   "metadata": {},
   "source": [
    "I have provided you a separate module called `example.py`. Import that module here."
   ]
  },
  {
   "cell_type": "code",
   "execution_count": 17,
   "id": "092eb2b9-dd15-4fdf-a7a2-ad32cd22ed88",
   "metadata": {},
   "outputs": [],
   "source": [
    "import example as ex"
   ]
  },
  {
   "cell_type": "markdown",
   "id": "a6922f89-01e7-41af-82e2-4236daa103b1",
   "metadata": {},
   "source": [
    "With the following variables, use my module to show which of the rocket's escape!"
   ]
  },
  {
   "cell_type": "code",
   "execution_count": 18,
   "id": "6b2e8b39-8441-469a-a128-19b04b8c8a2f",
   "metadata": {},
   "outputs": [
    {
     "name": "stdout",
     "output_type": "stream",
     "text": [
      "['Rocket left the planet!', 'Rocket is orbiting around the planet.', 'Rocket crashes back into the planet!']\n"
     ]
    }
   ],
   "source": [
    "rocket_velocities = np.array([\n",
    "    [1000, 5000, 8000, 12000],  # Rocket 1's velocity at different times\n",
    "    [2000, 6000, 9000, 10000],  # Rocket 2\n",
    "    [3000, 3100, 3200, 3300]    # Rocket 3\n",
    "])\n",
    "\n",
    "mass_of_planet = 5.972e24 # kilograms\n",
    "radius_of_planet = 6.371e6 # meters\n",
    "\n",
    "X = ex.rocket_launch(rocket_velocities, mass_of_planet, radius_of_planet)\n",
    "print(X)"
   ]
  },
  {
   "cell_type": "code",
   "execution_count": 19,
   "id": "05196d65-9e31-4cec-ad01-9f9cebe00046",
   "metadata": {},
   "outputs": [],
   "source": [
    "# The first rocket was able to leave the planet whereas the second one is stuck in orbit and the 3rd crashed back down"
   ]
  },
  {
   "cell_type": "markdown",
   "id": "9ab3de38-dbd9-438f-a587-67e8777c9c93",
   "metadata": {},
   "source": [
    "In 2-3 sentences describe how this code follows \"good coding practices\" and where there is room for improvement."
   ]
  },
  {
   "cell_type": "code",
   "execution_count": 20,
   "id": "94d49892-e1c0-4e6a-b05d-f9ddf3de4b44",
   "metadata": {},
   "outputs": [],
   "source": [
    "# It follows good coding practices. I feel that I know exactly what's going on at all parts of the function, and nothing seems unclear. "
   ]
  },
  {
   "cell_type": "markdown",
   "id": "2dce5617-a86a-4327-aa99-f29548f3b92c",
   "metadata": {},
   "source": [
    "# 3 Your Turn!\n",
    "Now its your turn to make a module! Choose a topic from a class (could be physics, computer science, nuclear engineering, biology, astronomy, math, or an topic that interests you!) and build a module around it! Look at my module called `example.py` and base your structure around it. Your module NEEDS to include the following.\n",
    "\n",
    "Overall:\n",
    "1) Your module needs to use at least one NumPy function: https://numpy.org/devdocs/reference/routines.math.html\n",
    "2) Your module needs to contain a multi-dimensional array: https://numpy.org/devdocs/reference/arrays.ndarray.html \n",
    "3) Your module needs **at least** three functions that follow good coding practices.\n",
    "4) Inside your function, include comments. Don't forget to describe what the function is doing and what the inputs and outputs are.\n",
    "5) Your module needs either a `for` loop or `while` loop.\n",
    "6) Your module needs an `if`, `elif`, and `else` statement.\n",
    "7) Your module needs at least two assignment variables (`+=`, `*=`, etc).\n",
    "8) Creativity. *If it looks like you plugged this whole thing into ChatGPT, I will take off points. You can use ChatGPT to help you code, but you can't use it to just do your homework for you. That's no fun :(*\n",
    "\n",
    "In 2-3 sentences, describe the topic of your module and its capabilities. "
   ]
  },
  {
   "cell_type": "code",
   "execution_count": 21,
   "id": "0db7310e-b286-4ce7-aa0b-c211e243b7d6",
   "metadata": {},
   "outputs": [],
   "source": [
    "# In astrophysics class we went over what it would take for a spaceship with some speed V and mass M to make it out and \"escape\" the gravitational\n",
    "# pull of the planet it's trying to escape from. To do this, I want to make a function that calculates the kinetic energy of the spaceship based on\n",
    "# its mass and its velocity, the gravitational potential energy of the planet based on mass and radius, and see if the spaceship could escape. It's a \n",
    "# pretty basic function, however it's something that would save me a lot of time on calculations. Another function I wanted to run was plotting the \n",
    "# graph for Planck's constant. "
   ]
  },
  {
   "cell_type": "markdown",
   "id": "f9ec7fbd-1d6d-4c08-8528-e9cdaa7e3f6b",
   "metadata": {},
   "source": [
    "In 2-3 sentences, answer the following. What was the most challenging part of building this module? What did you learn in the process that you can apply to future coding assignments?"
   ]
  },
  {
   "cell_type": "code",
   "execution_count": 26,
   "id": "19898c20-2adb-4011-b95e-1da864f7801a",
   "metadata": {},
   "outputs": [],
   "source": [
    "# I think the most challenging part is not being able to run test cases in the module itself. What I ended up doing most of the time is I would copy\n",
    "# and paste the functions I built in the module into a separate jupyter notebook to test them out and see if they worked. I also forgot a few times to\n",
    "# reload the kernel after making some changes to the module which made it incredibly frustrating when I was getting the same output for vastly \n",
    "# different inputs. Learning that I had to re-import the module after making a change was frustrating was useful. "
   ]
  },
  {
   "cell_type": "markdown",
   "id": "85e943ab-1036-46bc-b9fb-da4ab1890816",
   "metadata": {},
   "source": [
    "Once your module is complete, import it here."
   ]
  },
  {
   "cell_type": "code",
   "execution_count": 27,
   "id": "fb9821b1-3cc0-4999-97eb-441571bbd5e1",
   "metadata": {},
   "outputs": [],
   "source": [
    "import escape_velocity as ev"
   ]
  },
  {
   "cell_type": "markdown",
   "id": "ac42ebd4-e51b-4be4-aaa7-6c7d550abd30",
   "metadata": {},
   "source": [
    "Call each of your functions in the cell below. Make sure to show the outputs! "
   ]
  },
  {
   "cell_type": "code",
   "execution_count": 28,
   "id": "b63d3d1f-64bd-4dc7-b20f-c562d09c7c92",
   "metadata": {},
   "outputs": [
    {
     "name": "stdout",
     "output_type": "stream",
     "text": [
      "50000000.0\n",
      "624721152900.9176\n",
      "[\"The spaceship will not escape the planet's gravity\", \"The spaceship will not escape the planet's gravity\", \"The spaceship will escape the planet's gravity\"]\n"
     ]
    }
   ],
   "source": [
    "# First we'll do a kinetic energy calculation\n",
    "\n",
    "velocity_spaceship = 100 # m/s\n",
    "mass_spaceship = 10000 # kg\n",
    "x = ev.get_kinetic_energy(velocity_spaceship, mass_spaceship)\n",
    "print(x)\n",
    "\n",
    "# Second we'll calculate the potential energy for the earth \n",
    "\n",
    "mass_planet = 5.97e24\n",
    "radius_planet = 6378137 \n",
    "y = ev.get_potential_energy(mass_planet, mass_spaceship, radius_planet)\n",
    "print(y)\n",
    "\n",
    "# Now we will determine whether at a range of speeds, a spaceship will be able to escape or not. \n",
    "\n",
    "speeds = np.array([10000, 11000, 12000])\n",
    "x = ev.will_it_escape(speeds, mass_planet, mass_spaceship, radius_planet)\n",
    "print(x)"
   ]
  },
  {
   "cell_type": "markdown",
   "id": "8cf33b19-9bca-484e-8129-d8a4896a1bfa",
   "metadata": {},
   "source": [
    "# 4 Proper Submission\n",
    "To recieve full credit for this assignment make sure you do the following:\n",
    "\n",
    "1) Copy this homework assignment from the `ulab_2024` repository into **YOUR** local `homework7` branch. It will contain this notebook and an additional file called `example.py`. \n",
    "   \n",
    "2) Follow the tasks. Make sure to run all the cells so that **all** output is visible. You will get points taken off if your ouputs are not shown!\n",
    "\n",
    "3) Add/commit/push this notebook and **ANY** modules (so you should have `example.py` and your module) used in this homework assignment to your remote `homework7` branch. Make sure to have NOTHING else in your branch (i.e. no previous homeworks or lecture notes).\n",
    "\n",
    "4) Do the following:\n",
    "- Take a screenshot of moving **into or out** of your `homework7` brach, call it `hw7_branch`.\n",
    "- Take a screenshot of calling `ls` in your `homework7` branch, it should only contain items relevent to homework 7, call it `hw7_ls`.\n",
    "- Take a screenshot of adding this assignment to your local `homework7` branch, call it `hw7_add`.\n",
    "- Take a screenshot of committing this assignment to your local `homework7` branch, call it `hw7_commit`.\n",
    "- Take a screenshot of pushing this assignment to your remote `homework7` branch, call it `hw7_push`. \n",
    "\n",
    "6) Include these screenshots in your `homework7` branch. Upload your `homework7` branch to Gradescope!"
   ]
  }
 ],
 "metadata": {
  "kernelspec": {
   "display_name": "Python 3 (ipykernel)",
   "language": "python",
   "name": "python3"
  },
  "language_info": {
   "codemirror_mode": {
    "name": "ipython",
    "version": 3
   },
   "file_extension": ".py",
   "mimetype": "text/x-python",
   "name": "python",
   "nbconvert_exporter": "python",
   "pygments_lexer": "ipython3",
   "version": "3.12.3"
  }
 },
 "nbformat": 4,
 "nbformat_minor": 5
}
