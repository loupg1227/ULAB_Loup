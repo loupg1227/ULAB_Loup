





import numpy as np





my_list = [3, 4, 6, 8, 10]
my_array = np.array([2, 4, 6, 8, 10])





new_list = my_list * 4
new_array = my_array * 4

print(new_list)
print(new_array)

#The first command will append the list 4 times to itself: it will copy the list 4 times, making it 4 times as long with the same values always repeating
#The second command will multiply each element in the array by 4: With an array we can change each element within the array.





newer_list = my_list + my_list # Like last time, this command will append the list to itself once, doubling in size with the same values
newer_array = my_array + my_array # Each element in the array will get added by itself once: with this, a value of 20 will become 40. 
array_and_list = my_array + my_list # This time the list is treated as an array and instead of appending to the array, it affects each element in the array.

print(newer_list)
print(newer_array)
print(array_and_list)





subtract_list = my_list - my_list #When running this, I get an error message because you cannot subtract a list from another list. I will comment it out to see what would happen with the other.
print(subtract_list)


subtract_array = my_array - my_array # This will cause the array to be filled with zeros since it's subtracting itself, it should go down to zero
list_and_array = my_list - my_array # This will once again make the list behave like an array, meaning we can subtract the 2 as if they were both numpy array

print(subtract_array)
print(list_and_array)





multiply_list = my_list * my_list # This gives us an error because we cannot multiply a list with another list explicitly like this. 

print(multiply_list)


multiply_array = my_array * my_array # This will work and return a new array with each element multiplied by itself (like a square function)
multiply_list_array = my_list * my_array # This time around the list will be treated as an array and multiply the first list element and the first array element and put this new value into a brand new array.

print(multiply_array)
print(multiply_list_array)





divide_list = my_list / my_list # Just like multiplication, the division operation isn't define for lists: we can't divide a list by another list

print(divide_list)


divide_array = my_array / my_array # Like multiplication, we can divide an array with itself, and get an array filled with 1's.
divide_list_array = my_list / my_array # Again, the list will be treated as an array and we can divide the list by the array, or the array by the list.

print(divide_array)
print(divide_list_array)





# Arrays and lists behave in different ways from each other: you cannot affect specific elements inside a list, you can only append things to this list
# Much like how we were able to append a list 4 times by multiplying it by a scalar or adding a list onto itself, however, we cannot divide a list 
# by itself or by another list, and we cannot multiply a list by another list and affect specific elements inside the list.

# With arrays, we can affect each element in it, by multiplying, dividing, adding, or subtracting by a scalar or another array. We can even do it with 
# other lists, as for some reason lists end up being treated as an array. 





def return_second_values(two_d_array): # Function that will give us the second values back
    second_values = [] # Creating an empty array to which we will append the second values to.
    for i in two_d_array: # For loop that runs through each element ("mini-array") in the 2d-array: in this case, it will run through every "mini-array" as one i. 
        second_values.append(i[1]) # This means that the second element of each "mini-array" will be appended to the new empty array. 

    return second_values

array = np.array([[2, 4, 6], [8, 10, 12], [14, 16, 18]])
X = return_second_values(array)
print(X)





# I got helped by the array slicing page, especially to figure out the appending line, where I call on the second element of each "mini-array" the nested list





# I think that in this case, doing the same thing that I did before would probably work:

def second_element_of_nested_list(nested_list):
    second_element = []
    for i in nested_list:
        second_element.append(i[1])
    return second_element

list = [[1, 2, 3], [2, 3, 4]]
x = second_element_of_nested_list(list)
print(x)

# As I thought, what I built before will also work for a nested list. 





# Let's assume that I want to build a function that takes in a nested array but that I only want the 1st and last one from this array. This function I will build should do that (inspired by the NumPy array slicing tab)
# Also if each mini-array has 2 or less elements in it, we ignore it
def first_and_last_element(nested_array): # Function that will take the 1st and last element of sub-arrays inside a nested array and give the first and last element only if the dimensions of those arrays exceed 2.
    first_and_last = [] # Empty array where our values will go.
    for i in nested_array: # For loop that will go through each element in the nested array.
        if len(i) > 2: # Conditional that will stop the function if the array elements are less than 2. 
            first_and_last.append([i[0], i[-1]]) # This is the most important. This will append the first and last values of our arrays to our new and empty array. I learned the trick for the last variable through the numpy array slicing module. 

    return first_and_last

array = np.array([[1, 2, 3, 4, 5], [4, 5, 23, 34, 56], [12, 45, 192, 0, 97]])
x = first_and_last_element(array)
print(x)

# While this function does work, I realized that I kind of don't need the if statement because numpy arrays are designed to be homogeneous, so if the numpy arrays inside the nested array are 2 or less, the function just wont run

array_two = np.array([[1, 2], [2, 3], [3, 4]])
y = first_and_last_element(array_two)
print(y)





# I took inspiration from the array-slicing part

array = np.array([1, 2, 3, 4, 5, 6])

# Example 1: Slicing from one start index to one end index 

print(array[1:5]) # This is to get some aspects of the array you need within a range for example from the 1st element (which is the second) to the 5th (which is the 6th).
print(array[2:3]) # This shows that the first entry is inclusive but the second entry will be left out, which is why there's only one output with this command

# Example 2/3: Slicing from a start index to the very end of an array

print(array[2:]) # This will return our array sliced from the second element (inclusively) to the end of the array
print(array[:2]) # This will return our away but this time sliced from the beginning (0th index) until the second element (exclusively)

# Example 4: We can also slice from negative values

print(array[-1:]) # This is essentially the same thing as saying "return the last element of the array". The last element is the -1 element
print(array[-3:-1]) # This will start at i = -3 (third from last) and go until the last element

# Example 5: We can also slice with a step in between

print(array[0:-1:2]) # This means to return elements of the array starting from the first element to the last but with a step of 2 in between
print(array[::2]) # You can also do this same thing with this simpler call which like for example 2/3 will take the entire array without mentioning the start and stop indeces.


two_d_array = np.array([[1, 2, 3, 4, 5, 6], [7, 8, 9, 10, 11, 12]])

# Example 6: We can also slice elements from a nested list:

print(two_d_array[1, 0:3]) # This syntax means to take the 0th and 3rd element from the second list, but we can also make it from both lists:
print(two_d_array[:, 0:3]) # This syntax, similar to example 2, 3, 5 means from all arrays, take the 0th and 3rd element, but we can also add a step
print(two_d_array[:, ::2]) # This means we take all "sub-arrays" in our bigger array and we return all elements with a 2 step.





# I think the example that helped me the most understand the slicing is example 2/3/4 and 5. The reason for this is those seem to be the base of what 
# I needed to know to understand slicing, because once you know this you can just extrapolate and use it for nested lists. Being able to know how the 
# indexing in an array works was very useful to know how to manipulate arrays and affect only certain elements of an array





import even_sum as es





X = ([1, 2, 3, 4, 5, 6, 7, 8])
print(es.sum_even_numbers(X))





import example as ex





rocket_velocities = np.array([
    [1000, 5000, 8000, 12000],  # Rocket 1's velocity at different times
    [2000, 6000, 9000, 10000],  # Rocket 2
    [3000, 3100, 3200, 3300]    # Rocket 3
])

mass_of_planet = 5.972e24 # kilograms
radius_of_planet = 6.371e6 # meters

X = ex.rocket_launch(rocket_velocities, mass_of_planet, radius_of_planet)
print(X)


# The first rocket was able to leave the planet whereas the second one is stuck in orbit and the 3rd crashed back down





# It follows good coding practices. I feel that I know exactly what's going on at all parts of the function, and nothing seems unclear. 





# In astrophysics class we went over what it would take for a spaceship with some speed V and mass M to make it out and "escape" the gravitational
# pull of the planet it's trying to escape from. To do this, I want to make a function that calculates the kinetic energy of the spaceship based on
# its mass and its velocity, the gravitational potential energy of the planet based on mass and radius, and see if the spaceship could escape. It's a 
# pretty basic function, however it's something that would save me a lot of time on calculations. Another function I wanted to run was plotting the 
# graph for Planck's constant. 





# I think the most challenging part is not being able to run test cases in the module itself. What I ended up doing most of the time is I would copy
# and paste the functions I built in the module into a separate jupyter notebook to test them out and see if they worked. I also forgot a few times to
# reload the kernel after making some changes to the module which made it incredibly frustrating when I was getting the same output for vastly 
# different inputs. Learning that I had to re-import the module after making a change was frustrating was useful. 





import escape_velocity as ev





# First we'll do a kinetic energy calculation

velocity_spaceship = 100 # m/s
mass_spaceship = 10000 # kg
x = ev.get_kinetic_energy(velocity_spaceship, mass_spaceship)
print(x)

# Second we'll calculate the potential energy for the earth 

mass_planet = 5.97e24
radius_planet = 6378137 
y = ev.get_potential_energy(mass_planet, mass_spaceship, radius_planet)
print(y)

# Now we will determine whether at a range of speeds, a spaceship will be able to escape or not. 

speeds = np.array([10000, 11000, 12000])
x = ev.will_it_escape(speeds, mass_planet, mass_spaceship, radius_planet)
print(x)



