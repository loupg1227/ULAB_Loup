





# IMPORT NECESSARY PACKAGES
import matplotlib.pyplot as plt
import numpy as np 





# plt.figure(figsize=(5,5))  This makes the figure 5x5
# plt.plot()
# plt.show()





# Your comment here





# Your comment here 





# Your comment here





# Your comment here





# Your comment here





# Your comment here





# Your code here





# Your code here





# Your comment here





# Your comment here





# Your comment here





# Your comment here





# Your comment here





# Your code here





# Import your module here





# Your code here





# Your code here





# Your code here





# Import your module and/or your code here





# Your comment here





# Your comment here






