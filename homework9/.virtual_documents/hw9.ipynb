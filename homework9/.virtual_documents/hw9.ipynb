





# IMPORT NECESSARY PACKAGES
import matplotlib.pyplot as plt
import numpy as np 





#plt.figure(figsize=(5, 5))  #This makes the figure 5x5
#plt.plot()
#plt.show()





# x_values = [1, 2, 3, 4, 5]
# y_values = [2, 4, 6, 8, 10]





# plt.plot(x_values, y_values, color='cyan', linestyle="--", label="Line graph")  #This is the code that will make the line graph
# plt.scatter(x_values, y_values, color='magenta', marker='>', label="Data points")  #This is the code that will plot the data as points





# plt.title("Title of plot", fontdict={'fontsize':26})

# This is the code necessary to make the title of a plot, and we can use the function "fontdict" to change the font size, whether it's bolded or not
# or the font itself.





# plt.xlabel("X-label", fontdict={'fontsize': 20})
# plt.ylabel("Y-label", fontdict={'fontsize': 20})

# This is the code to make labels of the X and Y axes, and we can use the same "fontdict" to change the fontsize.





# plt.legend(loc='lower right')

# My plotting cell above does incorporate labels, so all I need to do is add a legend. With the legend function, I can also use the loc paramater to 
# change the physical location of the legend.





# plt.show()





x_values = [1, 2, 3, 4, 5]
y_values = [2, 4, 6, 8, 10]

plt.figure(figsize=(5, 5))
plt.gca().set_facecolor('black') # This is my new addition, where we can completely change the background color of the plotting area.

plt.plot(x_values, y_values, color='white', linestyle="--", label="Line graph")  # This is the code that will make the line graph
plt.scatter(x_values, y_values, color='cyan', marker='>', label="Data points")  # This is the code that will plot the data as points

plt.title("Title of plot", fontdict={'fontsize':26})
plt.xlabel("X-label", fontdict={'fontsize': 20})
plt.ylabel("Y-label", fontdict={'fontsize': 20})
plt.legend(loc='lower right')

plt.show()





import numpy as np

def x_squared(inputs):
    result = []
    for i in inputs:
        quadratic = i**2
        result.append(quadratic)

    return result

x_values = np.linspace(0, 10, 100)
y_values = x_squared(x_values)

plt.figure(figsize=(10,8))
plt.gca().set_facecolor('black')

plt.plot(x_values, y_values, color='white')
plt.xlabel("X-label / Inputs", fontdict={'fontsize': 15})
plt.ylabel("Y-label / Outputs", fontdict={'fontsize': 15})
plt.show()





# Your comment here





# Your comment here





# Your comment here





# Your comment here





# Your comment here





# Your code here





# Import your module here





# Your code here





# Your code here





# Your code here





# Import your module and/or your code here





# Your comment here





# Your comment here






