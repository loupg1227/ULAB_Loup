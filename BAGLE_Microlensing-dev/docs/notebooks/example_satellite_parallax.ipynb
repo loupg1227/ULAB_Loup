{
 "cells": [
  {
   "cell_type": "markdown",
   "source": [
    "# Example: Satellite Parallax\n",
    "\n",
    "In this example, we calculate the photometric amplification curves for the OB170896 event published in Shvartzvald et al. 2019. This event was observed both from ground-based telescopes and Spitzer. We use BAGLE to reproduce the lightcurve seen from both locations. \n",
    "\n",
    "The event parameters are taken from the ++ solution in Table 1. \n",
    "\n",
    "| Param         | Value      | units    |\n",
    "|---------------|------------|----------|\n",
    "| $t_{0,geotr}$ | 7911.05582 | HJD days |\n",
    "| $u_{0,geotr}$ | 0.0039     |          |\n",
    "| $t_{E,geotr}$ | 14.883     | days     |\n",
    "| $\\pi_{E,E,geotr}$ | −0.615 |          |\n",
    "| $\\pi_{E,N,geotr}$ | −0.779 |          |\n",
    "\n",
    "Note that all of these parameters are in the geocentric-transformed coordinate system where the rectilinear transform is performed at $t_{0,par} = t_{0,geotr}$.\n",
    "\n"
   ],
   "metadata": {
    "collapsed": false
   },
   "id": "28ce302ae398e5d4"
  },
  {
   "cell_type": "code",
   "execution_count": null,
   "id": "e4314acc41515ddb",
   "metadata": {
    "collapsed": true
   },
   "outputs": [],
   "source": [
    "import pylab as plt\n",
    "from bagle import model\n",
    "from bagle import frame_convert as fc\n",
    "\n",
    "# Scenario from Shvartzvald et al. 2019\n",
    "# Target: OB170896: +,+ solution (see Table 1)\n",
    "raL = (17. + 57./60.)  * 15.0  # in degrees\n",
    "decL = -(27. + 13./60.)\n",
    "t0_geotr = 57911.05582\n",
    "u0_geotr = 0.0039\n",
    "tE_geotr = 14.883\n",
    "piEN_geotr = -0.779\n",
    "piEE_geotr = -0.615\n",
    "t0par = t0_geotr"
   ]
  },
  {
   "cell_type": "markdown",
   "source": [
    "The brightness of the event was not reported in the table, so we will guess some values."
   ],
   "metadata": {
    "collapsed": false
   },
   "id": "163da6916745d867"
  },
  {
   "cell_type": "code",
   "execution_count": null,
   "outputs": [],
   "source": [
    "# Guessed these values based on Figure 1 -- not reported in table.\n",
    "mag_src = 17.9\n",
    "mag_blend = 21.0\n",
    "\n",
    "f_src = 10**(mag_src / -2.5)\n",
    "f_blend = 10**(mag_blend / -2.5)\n",
    "f_base = f_src + f_blend\n",
    "    \n",
    "b_sff = f_src / f_base\n",
    "mag_base = -2.5 * np.log10(f_base)"
   ],
   "metadata": {
    "collapsed": false
   },
   "id": "4de3c50c97240111"
  },
  {
   "cell_type": "markdown",
   "source": [
    "Convert the parameters from the geocentric-transformed frame into heliocentric, which we prefer to work with in BAGLE."
   ],
   "metadata": {
    "collapsed": false
   },
   "id": "a2ce1f882c99c37c"
  },
  {
   "cell_type": "code",
   "execution_count": null,
   "outputs": [],
   "source": [
    "out = fc.convert_helio_geo_phot(raL, decL,\n",
    "                                t0_geotr, u0_geotr, tE_geotr,\n",
    "                                piEE_geotr, piEN_geotr, t0par,\n",
    "                                in_frame='geo',\n",
    "                                murel_in='LS', murel_out='SL',\n",
    "                                coord_in='tb', coord_out='EN',\n",
    "                                plot=False)\n",
    "\n",
    "t0_helio = out[0]\n",
    "u0_helio = out[1]\n",
    "tE_helio = out[2]\n",
    "piEE_helio = out[3]\n",
    "piEN_helio = out[4]"
   ],
   "metadata": {
    "collapsed": false
   },
   "id": "446c0c0a1ee618ca"
  },
  {
   "cell_type": "markdown",
   "source": [
    "Make two different BAGLE model objects with one at Earth's location and one at Spitzer's location. Note these locations are time dependant and will capture the full motion of each body according to the JPL Ephemeris. "
   ],
   "metadata": {
    "collapsed": false
   },
   "id": "ec118e1f0c469078"
  },
  {
   "cell_type": "code",
   "execution_count": null,
   "outputs": [],
   "source": [
    "# Earth parallax\n",
    "pspl_e = model.PSPL_Phot_Par_Param1(t0_helio,\n",
    "                                    u0_helio,\n",
    "                                    tE_helio,\n",
    "                                    piEE_helio,\n",
    "                                    piEN_helio,\n",
    "                                    [b_sff],\n",
    "                                    [mag_src],\n",
    "                                    raL=raL,\n",
    "                                    decL=decL,\n",
    "                                    obsLocation='earth')\n",
    "# Spitzer parallax\n",
    "pspl_s = model.PSPL_Phot_Par_Param1(t0_helio,\n",
    "                                    u0_helio,\n",
    "                                    tE_helio,\n",
    "                                    piEE_helio,\n",
    "                                    piEN_helio,\n",
    "                                    [b_sff],\n",
    "                                    [mag_src],\n",
    "                                    raL=raL,\n",
    "                                    decL=decL,\n",
    "                                    obsLocation='spitzer')"
   ],
   "metadata": {
    "collapsed": false
   },
   "id": "eff49fcf5a75783c"
  },
  {
   "cell_type": "markdown",
   "source": [
    "Make lightcurves for each of the above models. "
   ],
   "metadata": {
    "collapsed": false
   },
   "id": "c5b7cd363a1c6598"
  },
  {
   "cell_type": "code",
   "execution_count": null,
   "outputs": [],
   "source": [
    "\n",
    "    t = np.arange(t0_geotr - 30, t0_geotr + 30, 0.5)\n",
    "    dt = t - pspl_e.t0\n",
    "\n",
    "    A_e = pspl_e.get_amplification(t)\n",
    "    A_s = pspl_s.get_amplification(t)\n",
    "\n",
    "    m_e = pspl_e.get_photometry(t)\n",
    "    m_s = pspl_s.get_photometry(t)\n",
    "\n",
    "    # make sure the two light curves and trajectories are different.\n",
    "    assert np.abs(A_e - A_s).max() > 0.1  # mag\n",
    "    # assert np.abs(xS_e - xS_s_lensed).max() > 0.001  # arcsec\n",
    "\n",
    "    # Make sure some general shape parameters agree with Shvartzvald+ 2019 Figure 1\n",
    "    idx_e = A_e.argmax()\n",
    "    idx_s = A_s.argmax()\n",
    "    assert idx_s > idx_e\n",
    "    # peaks are 5 days apart, Spitzer peak is later.\n",
    "    assert (t[idx_s] - t[idx_e]) > 5\n",
    "\n",
    "    # ground peak is 4 mag higher than spitzer peak. Note that paper Figure 1 shows a lower\n",
    "    # peak difference due to finite source effects.\n",
    "    assert ( 2.5 * np.log10(A_e[idx_e] / A_s[idx_s]) ) > 4\n",
    "\n",
    "    if plot:\n",
    "\n",
    "        # Plot the amplification\n",
    "        fig1 = plt.figure(1)\n",
    "        plt.clf()\n",
    "        f1_1 = fig1.add_axes((0.20, 0.3, 0.75, 0.6))\n",
    "        plt.plot(dt, 2.5 * np.log10(A_e), 'b-', label='Earth1 parallax')\n",
    "        plt.plot(dt, 2.5 * np.log10(A_s), 'r-', label=f'{obsLocation} parallax')\n",
    "        plt.legend(fontsize=10)\n",
    "        plt.ylabel('2.5 * log(A)')\n",
    "        f1_1.set_xticklabels([])\n",
    "\n",
    "        f2_1 = fig1.add_axes((0.20, 0.1, 0.75, 0.2))\n",
    "        plt.plot(dt, 2.5 * (np.log10(A_s) - np.log10(A_e)), 'k-',\n",
    "                 label='Par - No par')\n",
    "        plt.axhline(0, linestyle='--', color='k')\n",
    "        plt.legend(fontsize=10)\n",
    "        plt.ylabel('Diff')\n",
    "        plt.xlabel('t - t0 (MJD)')\n",
    "\n",
    "        plt.savefig(outdir + 'amp_v_time.png')\n",
    "\n",
    "        # Plot the magnitude\n",
    "        fig2 = plt.figure(2)\n",
    "        plt.clf()\n",
    "        f2_1 = fig2.add_axes((0.20, 0.3, 0.75, 0.6))\n",
    "        plt.plot(dt, m_e, 'b-', label='Earth1 parallax')\n",
    "        plt.plot(dt, m_s, 'r-', label=f'{obsLocation} parallax')\n",
    "        plt.legend(fontsize=10)\n",
    "        plt.ylabel('mag')\n",
    "        plt.gca().invert_yaxis()\n",
    "        f2_1.set_xticklabels([])\n",
    "\n",
    "        f2_2 = fig2.add_axes((0.20, 0.1, 0.75, 0.2))\n",
    "        plt.plot(dt, m_s - m_e, 'k-',\n",
    "                 label=f'Earth - {obsLocation}')\n",
    "        plt.axhline(0, linestyle='--', color='k')\n",
    "        plt.legend(fontsize=10)\n",
    "        plt.ylabel('Diff')\n",
    "        plt.xlabel('t - t0 (MJD)')\n",
    "        plt.gca().invert_yaxis()\n",
    "\n",
    "        plt.savefig(outdir + 'mag_v_time.png')\n",
    "\n",
    "    return\n"
   ],
   "metadata": {
    "collapsed": false
   },
   "id": "bea77f84b1c77780"
  }
 ],
 "metadata": {
  "kernelspec": {
   "display_name": "Python 3",
   "language": "python",
   "name": "python3"
  },
  "language_info": {
   "codemirror_mode": {
    "name": "ipython",
    "version": 2
   },
   "file_extension": ".py",
   "mimetype": "text/x-python",
   "name": "python",
   "nbconvert_exporter": "python",
   "pygments_lexer": "ipython2",
   "version": "2.7.6"
  }
 },
 "nbformat": 4,
 "nbformat_minor": 5
}
