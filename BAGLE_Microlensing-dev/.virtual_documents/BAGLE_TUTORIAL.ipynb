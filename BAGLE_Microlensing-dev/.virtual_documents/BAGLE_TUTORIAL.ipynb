











from src.bagle import model 
import numpy as np
import matplotlib.pyplot as plt
import matplotlib
import numpy as np








mL = 10.0  # Mass of the lens in solar masses
t0 = 57000.00 # Time of the photometric peak in days. In a binary event, t0 is the time of closest approach between the source and the lens. 
xS0 = np.array([0.000, 0.000])
# beta = -0.4 # mas
beta = 1.4 # Angular distance between the lens and the source in mas
muS = np.array([8.0, 0.0])
# muL = np.array([-7.0, 0.00])
muL = np.array([0.00, 0.00])
dL = 4000.0 # Distance to the lens
dS = 8000.0 # Distance between lens and source
b_sff = 1.0
mag_src = 19.0
RaL = 250
Dec = -39

event1 = model.PSPL_PhotAstrom_noPar_Param1(mL,t0,beta,dL,dL / dS,xS0[0],xS0[1],muL[0],muL[1],muS[0],muS[1],[b_sff],[mag_src], RaL, Dec)
print(event1)





#t = np.arange(event1.t0 - 2*event1.tE, event1.t0 + 2*event1.tE, 1)
#A = event1.get_amplification(t)
#plt.plot(t,A)
#plt.show()

t1 = np.arange(event1.t0 - 300, event1.t0 + 300, 1)
A1 = event1.get_amplification(t1)
plt.plot(t1,A1)
plt.show()








event1.animate(4, 150, 40, 'pspl', [10,10], 3, "yes")








t = np.arange(event1.t0 - 3000, event1.t0 + 3000, 1) #Get time range for event
dt = t - event1.t0  #Get time range from time of photometric peak.

A = event1.get_amplification(t)
shift = event1.get_centroid_shift(t) # To get lens-induced astrometric shift from centroid motion for all images
shift_amp = np.linalg.norm(shift, axis=1)

# Plot the amplification
plt.figure(1)
plt.clf()
plt.plot(dt, 2.5 * np.log10(A), 'k-')
plt.xlabel('t - t0 (MJD)')
plt.ylabel('2.5 * log(A)')


plt.clf()
plt.plot(dt, shift_amp)
plt.xlabel('t - t0 (MJD)')
plt.ylabel('Astrometric Shift (mas)')





ra = 269.9441667
dec = -28.6449444
mL = 10.0
t0 = 55150.0
xS0 = [0, 0]
beta = -2.0
muL = [0, 0]
muS = [5, 0]
dL = 4000
dS = 8000
blen_frac = 1
imag_base = 10

event2 = model.PSPL_PhotAstrom_Par_Param1(mL, t0, beta, dL, dL/dS, 
                                          xS0[0], xS0[1], 
                                          muL[0], muL[1], 
                                          muS[0], muS[1], 
                                          [blen_frac], [imag_base], 
                                          raL=ra, decL=dec)
print('tE = ', event2.tE)
print('thetaE = ', event2.thetaE_amp)
event2.animate(7, 150, 30, 'psplparallax', [8,8], 3, "yes")








event3 = model.FSPL_PhotAstromParam1(mL, t0, beta, dL, dS,
                 xS0[0], xS0[1],
                 muL[0], muL[0], 
                 muS[0], muS[1], 
                 150,
                 [b_sff], [mag_src],
                 40, ra, dec)



#event3.animate(4, 150, 30, 'FSPL', [10,10], 3) 
#I don't think animate is set up yet for FSPL





#event4 = model.FSPL_Limb_PhotAstromParam1(mL, t0, xS0, beta, muL, muS, dL, dS, 40, 150, 0.5, 35, [mag_src])
#'FSPL_Limb_PhotAstromParam1' object has no attribute 'get_source'















mL = 0.5  # msun
t0 = 57160.00
xS0 = np.array([0.000, 0.000])
beta = -7.41  # mas
muS = np.array([-2.0, 7.0])
muL = np.array([90.00, -24.71])
dL = 150.0
dS = 1500.0
b_sff = 1.0
mag_src = 19.0

belukurov = model.PSPL_PhotAstrom_noPar_Param1(mL,t0,beta,dL,dL / dS,xS0[0],xS0[1],muL[0],muL[1],muS[0],muS[1],[b_sff],[mag_src])


t = np.arange(belukurov.t0 - 3000, belukurov.t0 + 3000, 1) #Get time range for event
dt = t - belukurov.t0  #Get time range from time of photometric peak.

A = belukurov.get_amplification(t)
shift = belukurov.get_centroid_shift(t) # To get lens-induced astrometric shift from centroid motion for all images
shift_amp = np.linalg.norm(shift, axis=1)



lens_pos = belukurov.xL0 + np.outer(dt / model.days_per_year, belukurov.muL) * 1e-3
srce_pos = belukurov.xS0 + np.outer(dt / model.days_per_year, belukurov.muS) * 1e-3
imag_pos = srce_pos + (shift * 1e-3)

plt.clf()
plt.plot(lens_pos[:, 0], lens_pos[:, 1], 'r--', mfc='none', mec='red') 
plt.plot(srce_pos[:, 0], srce_pos[:, 1], 'b--', mfc='none', mec='blue')
plt.plot(imag_pos[:, 0], imag_pos[:, 1], 'b-') #solid blue line
lim = 0.005
plt.xlim(lim, -lim)  # arcsec
plt.ylim(-lim, lim)
plt.xlabel('dRA (arcsec)')
plt.ylabel('dDec (arcsec)')
plt.title('Zoomed-in')




plt.clf()
plt.plot(lens_pos[:, 0], lens_pos[:, 1], 'r--', mfc='none', mec='red')
plt.plot(srce_pos[:, 0], srce_pos[:, 1], 'b--', mfc='none', mec='blue')
plt.plot(imag_pos[:, 0], imag_pos[:, 1], 'b-')
lim = 0.03 # arcsec
plt.xlim(lim, -lim)  
plt.ylim(-lim, lim)
plt.xlabel('dRA (arcsec)')
plt.ylabel('dDec (arcsec)')
plt.title('Zoomed-out')


plt.clf()
plt.plot(dt, shift_amp)
plt.xlabel('t - t0 (MJD)')
plt.ylabel('Astrometric Shift (mas)')





plt.clf()
plt.plot(shift[:, 0], shift[:, 1])
plt.gca().invert_xaxis()
plt.xlabel('RA Shift (mas)')
plt.ylabel('Dec Shift (mas)')
plt.xlim(2.5, -2.5)
plt.ylim(-2.5, 2.5)
plt.axis('equal')





f, (ax1, ax2, ax3) = plt.subplots(3, sharex=True)
f.subplots_adjust(hspace=0)
ax1.plot(dt / belukurov.tE, shift[:, 0] / belukurov.thetaE_amp, 'k-') #Graphs change in x position with respect to einstein crossing time
ax2.plot(dt / belukurov.tE, shift[:, 1] / belukurov.thetaE_amp, 'k-') #Graphs change in x position with respect to einstein crossing time
ax3.plot(dt / belukurov.tE, shift_amp / belukurov.thetaE_amp, 'k-') #Graphs change in x position with respect to einstein crossing time
ax3.set_xlabel('(t - t0) / tE)')
ax1.set_ylabel(r'dX / $\theta_E$')
ax2.set_ylabel(r'dY / $\theta_E$')
ax3.set_ylabel(r'dT / $\theta_E$')
ax1.set_ylim(-0.4, 0.4)
ax2.set_ylim(-0.4, 0.4)
ax3.set_ylim(0, 0.4)


t0 = 58000.00
u0_amp = 5
tE = 154
thetaE = 4
piS = 0.8
piE_E = 1
piE_N = 1
alpha = 80
muS_system_E = 8
muS_system_N  = 3
omega = 30
big_omega = 10 
i = 90
e = 0.5
p = 400
tp = 30
aleph = 2 
aleph2 = 3
x0_system_E = 1
x0_system_N = 0
ra_L = 30
dec_L = 20

fratio_bin = 1.5
mag_base = 19
b_sff = 1

bsplorbits_nopar = model.BSPL_PhotAstrom_noPar_EllOrbs_Param2(
    t0, u0_amp, tE, thetaE, piS, piE_E, piE_N,  alpha, omega, big_omega, i, e, p, tp, aleph, aleph2, 
    muS_system_E, muS_system_N, x0_system_E, x0_system_N,  np.array([fratio_bin]), [mag_base],
[b_sff], ra_L, dec_L)
t = np.arange(bsplorbits_nopar.t0 -1000, bsplorbits_nopar.t0 +1000, 1)
plt.plot(t,bsplorbits_nopar.get_amplification(t))



