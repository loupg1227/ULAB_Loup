pip install matplotlib


pip install numpy


pip install astropy


pip install pytest


pip install celerite


pip install ephem


pip install pymultinest


from src.bagle import model


pip install jplephem


from src.bagle import model


pip install ffmpeg-python



