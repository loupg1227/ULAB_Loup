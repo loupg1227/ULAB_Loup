from src.bagle import model
import numpy as np
import matplotlib.pyplot as plt
import matplotlib
import numpy as np
from astropy.time import Time
plt.rc('text', usetex=True)
from src.bagle import orbits
%load_ext autoreload
%autoreload 2
plt.rcParams.update({'font.size':30})


mLp = 15
mLs = 10
t0 = 5700.00
xS0_E = 0
xS0_N = 0
beta = 10
muL_E = 4 #mas/yr
muL_N = 0 #mas/yr
muS_E = 0
muS_N = 4
i = 0
e = 0
omega = 0
big_omega = 90
#p = 2000
#aleph=5
#aleph_sec = 8
sep = 10
arat = 1
tp = 15
dL = 1000 #parsecs
dS = 1200
mag_src = 20
b_sff = 1
da_dt=-.05
ra_L = 260
dec_L = -29
alpha = 90


coolbl = model.Shrek(
mLp, mLs, t0, xS0_E, xS0_N,
beta, muL_E, muL_N, omega, big_omega, i, e, tp, sep, arat, da_dt,
muS_E, muS_N, dL, dS,
alpha, b_sff, mag_src,
raL=249, decL=-30, root_tol=1e-8
)



