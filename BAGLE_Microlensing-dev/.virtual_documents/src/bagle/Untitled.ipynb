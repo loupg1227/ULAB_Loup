from src.bagle import model
import numpy as np
import matplotlib.pyplot as plt
import matplotlib
import numpy as np
from astropy.time import Time
import psbl as psblf
import bsbl as bsblf
import mass_transfer_model as cool_model
plt.rc('text', usetex=True)
from bagle import orbits
%load_ext autoreload
%autoreload 2
plt.rcParams.update({'font.size':30})



