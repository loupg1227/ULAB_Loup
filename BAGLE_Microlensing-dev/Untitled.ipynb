{
 "cells": [
  {
   "cell_type": "code",
   "execution_count": 1,
   "id": "be394843-d9d0-4766-9172-f77eaaf6d880",
   "metadata": {},
   "outputs": [
    {
     "name": "stdout",
     "output_type": "stream",
     "text": [
      "Requirement already satisfied: matplotlib in c:\\users\\loupg\\anaconda3\\lib\\site-packages (3.8.4)Note: you may need to restart the kernel to use updated packages.\n",
      "\n",
      "Requirement already satisfied: contourpy>=1.0.1 in c:\\users\\loupg\\anaconda3\\lib\\site-packages (from matplotlib) (1.2.0)\n",
      "Requirement already satisfied: cycler>=0.10 in c:\\users\\loupg\\anaconda3\\lib\\site-packages (from matplotlib) (0.11.0)\n",
      "Requirement already satisfied: fonttools>=4.22.0 in c:\\users\\loupg\\anaconda3\\lib\\site-packages (from matplotlib) (4.51.0)\n",
      "Requirement already satisfied: kiwisolver>=1.3.1 in c:\\users\\loupg\\anaconda3\\lib\\site-packages (from matplotlib) (1.4.4)\n",
      "Requirement already satisfied: numpy>=1.21 in c:\\users\\loupg\\anaconda3\\lib\\site-packages (from matplotlib) (1.26.4)\n",
      "Requirement already satisfied: packaging>=20.0 in c:\\users\\loupg\\anaconda3\\lib\\site-packages (from matplotlib) (23.2)\n",
      "Requirement already satisfied: pillow>=8 in c:\\users\\loupg\\anaconda3\\lib\\site-packages (from matplotlib) (10.3.0)\n",
      "Requirement already satisfied: pyparsing>=2.3.1 in c:\\users\\loupg\\anaconda3\\lib\\site-packages (from matplotlib) (3.0.9)\n",
      "Requirement already satisfied: python-dateutil>=2.7 in c:\\users\\loupg\\anaconda3\\lib\\site-packages (from matplotlib) (2.9.0.post0)\n",
      "Requirement already satisfied: six>=1.5 in c:\\users\\loupg\\anaconda3\\lib\\site-packages (from python-dateutil>=2.7->matplotlib) (1.16.0)\n"
     ]
    }
   ],
   "source": [
    "pip install matplotlib"
   ]
  },
  {
   "cell_type": "code",
   "execution_count": 2,
   "id": "3c09df2a-179b-4bb3-8049-669ad0e02729",
   "metadata": {},
   "outputs": [
    {
     "name": "stdout",
     "output_type": "stream",
     "text": [
      "Requirement already satisfied: numpy in c:\\users\\loupg\\anaconda3\\lib\\site-packages (1.26.4)\n",
      "Note: you may need to restart the kernel to use updated packages.\n"
     ]
    }
   ],
   "source": [
    "pip install numpy"
   ]
  },
  {
   "cell_type": "code",
   "execution_count": 3,
   "id": "91f40b0e-5a04-4ca6-b1d3-643ff62c6776",
   "metadata": {},
   "outputs": [
    {
     "name": "stdout",
     "output_type": "stream",
     "text": [
      "Requirement already satisfied: astropy in c:\\users\\loupg\\anaconda3\\lib\\site-packages (6.1.0)\n",
      "Requirement already satisfied: numpy>=1.23 in c:\\users\\loupg\\anaconda3\\lib\\site-packages (from astropy) (1.26.4)\n",
      "Requirement already satisfied: pyerfa>=2.0.1.1 in c:\\users\\loupg\\anaconda3\\lib\\site-packages (from astropy) (2.0.1.4)\n",
      "Requirement already satisfied: astropy-iers-data>=0.2024.4.29.0.28.48 in c:\\users\\loupg\\anaconda3\\lib\\site-packages (from astropy) (0.2024.6.3.0.31.14)\n",
      "Requirement already satisfied: PyYAML>=3.13 in c:\\users\\loupg\\anaconda3\\lib\\site-packages (from astropy) (6.0.1)\n",
      "Requirement already satisfied: packaging>=19.0 in c:\\users\\loupg\\anaconda3\\lib\\site-packages (from astropy) (23.2)\n",
      "Note: you may need to restart the kernel to use updated packages.\n"
     ]
    }
   ],
   "source": [
    "pip install astropy"
   ]
  },
  {
   "cell_type": "code",
   "execution_count": 4,
   "id": "9ec806cb-75a0-4a31-9aed-36048536ad17",
   "metadata": {},
   "outputs": [
    {
     "name": "stdout",
     "output_type": "stream",
     "text": [
      "Requirement already satisfied: pytest in c:\\users\\loupg\\anaconda3\\lib\\site-packages (7.4.4)\n",
      "Requirement already satisfied: iniconfig in c:\\users\\loupg\\anaconda3\\lib\\site-packages (from pytest) (1.1.1)\n",
      "Requirement already satisfied: packaging in c:\\users\\loupg\\anaconda3\\lib\\site-packages (from pytest) (23.2)\n",
      "Requirement already satisfied: pluggy<2.0,>=0.12 in c:\\users\\loupg\\anaconda3\\lib\\site-packages (from pytest) (1.0.0)\n",
      "Requirement already satisfied: colorama in c:\\users\\loupg\\anaconda3\\lib\\site-packages (from pytest) (0.4.6)\n",
      "Note: you may need to restart the kernel to use updated packages.\n"
     ]
    }
   ],
   "source": [
    "pip install pytest"
   ]
  },
  {
   "cell_type": "code",
   "execution_count": 5,
   "id": "82ba9913-ec06-46f7-adab-7d37f27e4aef",
   "metadata": {},
   "outputs": [
    {
     "name": "stdout",
     "output_type": "stream",
     "text": [
      "Requirement already satisfied: celerite in c:\\users\\loupg\\anaconda3\\lib\\site-packages (0.4.3)\n",
      "Requirement already satisfied: numpy in c:\\users\\loupg\\anaconda3\\lib\\site-packages (from celerite) (1.26.4)\n",
      "Note: you may need to restart the kernel to use updated packages.\n"
     ]
    }
   ],
   "source": [
    "pip install celerite"
   ]
  },
  {
   "cell_type": "code",
   "execution_count": 6,
   "id": "bc053ebc-e9c4-41d2-8a07-dc0d88a0cfc9",
   "metadata": {},
   "outputs": [
    {
     "name": "stdout",
     "output_type": "stream",
     "text": [
      "Requirement already satisfied: ephem in c:\\users\\loupg\\anaconda3\\lib\\site-packages (4.1.6)\n",
      "Note: you may need to restart the kernel to use updated packages.\n"
     ]
    }
   ],
   "source": [
    "pip install ephem"
   ]
  },
  {
   "cell_type": "code",
   "execution_count": 7,
   "id": "86625e48-8122-4599-a11f-70852003e691",
   "metadata": {},
   "outputs": [
    {
     "name": "stdout",
     "output_type": "stream",
     "text": [
      "Requirement already satisfied: pymultinest in c:\\users\\loupg\\anaconda3\\lib\\site-packages (2.12)\n",
      "Note: you may need to restart the kernel to use updated packages.\n"
     ]
    }
   ],
   "source": [
    "pip install pymultinest"
   ]
  },
  {
   "cell_type": "code",
   "execution_count": 8,
   "id": "38b3a130-d51f-4d5f-ab01-18a74f3a73d3",
   "metadata": {
    "scrolled": true
   },
   "outputs": [],
   "source": [
    "from src.bagle import model"
   ]
  },
  {
   "cell_type": "code",
   "execution_count": 9,
   "id": "6f263686-f059-4238-891a-bc9040a476f6",
   "metadata": {},
   "outputs": [
    {
     "name": "stdout",
     "output_type": "stream",
     "text": [
      "Requirement already satisfied: jplephem in c:\\users\\loupg\\anaconda3\\lib\\site-packages (2.22)\n",
      "Requirement already satisfied: numpy in c:\\users\\loupg\\anaconda3\\lib\\site-packages (from jplephem) (1.26.4)\n",
      "Note: you may need to restart the kernel to use updated packages.\n"
     ]
    }
   ],
   "source": [
    "pip install jplephem"
   ]
  },
  {
   "cell_type": "code",
   "execution_count": 10,
   "id": "a13dcb3c-b2e4-4084-a69b-4eeb4ec42397",
   "metadata": {},
   "outputs": [],
   "source": [
    "from src.bagle import model"
   ]
  },
  {
   "cell_type": "code",
   "execution_count": 1,
   "id": "81e4211d-a52d-49ad-823b-0fa911cb7e22",
   "metadata": {},
   "outputs": [
    {
     "name": "stdout",
     "output_type": "stream",
     "text": [
      "Collecting ffmpeg-python\n",
      "  Downloading ffmpeg_python-0.2.0-py3-none-any.whl.metadata (1.7 kB)\n",
      "Collecting future (from ffmpeg-python)\n",
      "  Downloading future-1.0.0-py3-none-any.whl.metadata (4.0 kB)\n",
      "Downloading ffmpeg_python-0.2.0-py3-none-any.whl (25 kB)\n",
      "Downloading future-1.0.0-py3-none-any.whl (491 kB)\n",
      "   ---------------------------------------- 0.0/491.3 kB ? eta -:--:--\n",
      "   ---------------------------------------- 0.0/491.3 kB ? eta -:--:--\n",
      "    --------------------------------------- 10.2/491.3 kB ? eta -:--:--\n",
      "   -- ------------------------------------ 30.7/491.3 kB 660.6 kB/s eta 0:00:01\n",
      "   ------- ------------------------------ 102.4/491.3 kB 837.8 kB/s eta 0:00:01\n",
      "   ---------------------------------------  481.3/491.3 kB 3.3 MB/s eta 0:00:01\n",
      "   ---------------------------------------- 491.3/491.3 kB 2.6 MB/s eta 0:00:00\n",
      "Installing collected packages: future, ffmpeg-python\n",
      "Successfully installed ffmpeg-python-0.2.0 future-1.0.0\n",
      "Note: you may need to restart the kernel to use updated packages.\n"
     ]
    }
   ],
   "source": [
    "pip install ffmpeg-python"
   ]
  }
 ],
 "metadata": {
  "kernelspec": {
   "display_name": "Python 3 (ipykernel)",
   "language": "python",
   "name": "python3"
  },
  "language_info": {
   "codemirror_mode": {
    "name": "ipython",
    "version": 3
   },
   "file_extension": ".py",
   "mimetype": "text/x-python",
   "name": "python",
   "nbconvert_exporter": "python",
   "pygments_lexer": "ipython3",
   "version": "3.12.3"
  }
 },
 "nbformat": 4,
 "nbformat_minor": 5
}
