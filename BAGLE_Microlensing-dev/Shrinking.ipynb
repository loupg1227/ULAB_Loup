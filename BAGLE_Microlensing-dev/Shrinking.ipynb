{
 "cells": [
  {
   "cell_type": "code",
   "execution_count": 1,
   "id": "5db26ae4-24da-4261-b4df-60610add0d04",
   "metadata": {},
   "outputs": [],
   "source": [
    "from src.bagle import model\n",
    "import numpy as np\n",
    "import matplotlib.pyplot as plt\n",
    "import matplotlib\n",
    "import numpy as np\n",
    "from astropy.time import Time\n",
    "plt.rc('text', usetex=True)\n",
    "from src.bagle import orbits\n",
    "%load_ext autoreload\n",
    "%autoreload 2\n",
    "plt.rcParams.update({'font.size':30})"
   ]
  },
  {
   "cell_type": "code",
   "execution_count": 2,
   "id": "e02f21f1-7dad-4631-b241-503ca6d1f12d",
   "metadata": {},
   "outputs": [],
   "source": [
    "mLp = 15\n",
    "mLs = 10\n",
    "t0 = 5700.00\n",
    "xS0_E = 0\n",
    "xS0_N = 0\n",
    "beta = 10\n",
    "muL_E = 4 #mas/yr\n",
    "muL_N = 0 #mas/yr\n",
    "muS_E = 0\n",
    "muS_N = 4\n",
    "i = 0\n",
    "e = 0\n",
    "omega = 0\n",
    "big_omega = 90\n",
    "#p = 2000\n",
    "#aleph=5\n",
    "#aleph_sec = 8\n",
    "sep = 10\n",
    "arat = 1\n",
    "tp = 15\n",
    "dL = 1000 #parsecs\n",
    "dS = 1200\n",
    "mag_src = 20\n",
    "b_sff = 1\n",
    "da_dt=-.05\n",
    "ra_L = 260\n",
    "dec_L = -29\n",
    "alpha = 90"
   ]
  },
  {
   "cell_type": "code",
   "execution_count": 3,
   "id": "da1d73bf-4244-43f6-8f7c-0130d6b85144",
   "metadata": {},
   "outputs": [
    {
     "name": "stderr",
     "output_type": "stream",
     "text": [
      "C:\\Users\\loupg\\anaconda3\\Lib\\site-packages\\astropy\\units\\quantity.py:671: RuntimeWarning: invalid value encountered in sqrt\n",
      "  result = super().__array_ufunc__(function, method, *arrays, **kwargs)\n"
     ]
    }
   ],
   "source": [
    "coolbl = model.Shrek(\n",
    "mLp, mLs, t0, xS0_E, xS0_N,\n",
    "beta, muL_E, muL_N, omega, big_omega, i, e, tp, sep, arat, da_dt,\n",
    "muS_E, muS_N, dL, dS,\n",
    "alpha, b_sff, mag_src,\n",
    "raL=249, decL=-30, root_tol=1e-8\n",
    ")"
   ]
  },
  {
   "cell_type": "code",
   "execution_count": null,
   "id": "09b51368-153b-4e25-b165-99f96239846e",
   "metadata": {},
   "outputs": [],
   "source": []
  }
 ],
 "metadata": {
  "kernelspec": {
   "display_name": "Python 3 (ipykernel)",
   "language": "python",
   "name": "python3"
  },
  "language_info": {
   "codemirror_mode": {
    "name": "ipython",
    "version": 3
   },
   "file_extension": ".py",
   "mimetype": "text/x-python",
   "name": "python",
   "nbconvert_exporter": "python",
   "pygments_lexer": "ipython3",
   "version": "3.12.3"
  }
 },
 "nbformat": 4,
 "nbformat_minor": 5
}
