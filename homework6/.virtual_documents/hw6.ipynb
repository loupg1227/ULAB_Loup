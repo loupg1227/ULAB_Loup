





def return_elements_in_a_list(list): #This was the simplest descriptive name I could come up with for this function
    
    first_five = [] # Empty array where the first 5 numbers will go 
    for i in range(5): # Range will take in values going from the first to the 5th, so the for loop will run 5 times.
        first_five.append(list[i]) # This will take the first 5 numbers (through the range function) and append them to this empty array

    last_five = [] # Empty array where the first 5 numbers will go
    for i in range(len(list) -5, len(list)): #Len(list) -5 starts the for loop at the 5th to last element in the list
                                                    # Len(list) stops the loop at the last element
        last_five.append(list[i]) # This will do the same as first_five, but it will start at whatever the last 5 numbers are.

    every_2nd_element = []
    for i in range(0, len(list), 2): #0 means the for loop with the first element, 
                                     #len(numbers) is the upper limit which is the length
                                     #2 is the step size, 
        every_2nd_element.append(list[i])

    reversed_list = []
    for i in range(len(list) - 1, -1, -1): #Len(list) -1 starts the for loop at the last element in the list
                                           # -1 stops the loop before going past the first element of the list (which is now the last)
                                           # -1 Just like the 2nd element list, this is the step size, which is backwards from the last element.
        reversed_list.append(list[i])
        
    return first_five, last_five, every_2nd_element, reversed_list

x = [1, 2, 3, 4, 5, 6, 7, 8, 9, 10, 11, 12, 14, 15, 16, 17, 18, 19, 20]
print(return_elements_in_a_list(x))

y = [23, 567, 809, 23, 90, 2]
print(return_elements_in_a_list(y))

z = [42, 17, 89, 23, 56, 3, 78, 61, 34, 90]
print(return_elements_in_a_list(z))





def squares_and_cubes(list): #This function will take in one list and return 2, one with the values squared, another with cubed values.
    
    squares = []  #As before, this is our empty array        
    for i in list: #For loop runs through each element in the list
        i = i**2 #i will "update itself" to be the squared value of itself
        squares.append(i) #Appending our new i values to our empty array

    cubes = [] #Same as before, this is our empty array
    for i in list: #For loop runs through each element in the list
        i = i**3 #i will "update itself" to be the cubed value of itself
        cubes.append(i) #Appending our new i values to our empty array

    return squares, cubes

x = [1, 2, 3, 4, 5, 6]
print(squares_and_cubes(x))

y = [23, 16, 44, 8, 98, 142]
print(squares_and_cubes(y))

z = [20, 43, 76, 12]
print(squares_and_cubes(z))





# A dictionary that contains some data about the planets in our solar system
planet_data = {
    "Mercury": 0.39, 
    "Venus": 0.72,
    "Earth": 1.00, # distance from the Sun in AU
    "Mars": 1.52,
    "Jupiter": 5.20,
    "Saturn": 9.58,
    "Uranus": 19.22,
    "Neptune": 30.05
}   

print(planet_data) # print the dictonary





def printing_planetary_data(data_of_planets):
    for i in data_of_planets: #For loop goes through each element of the dictionary.
        distance = data_of_planets[i] #Gets the distance from the sun of each planet from the dictionary. It pulls the distance value associated
                                      # with the planet that we are on. If we are on Neptune, it will pull 30.05. The planet's name is the key to the value.
        print("Planet:", i, "Distance to the sun:", distance, "AU")

x = planet_data
printing_planetary_data(x)





def distance_greater_than_5au(data_of_planets): 
    minimum_distance = 5 # We set the minimum distance required to be included in our output
    start = 0 # This will make sure we start with the 1st planet
    planets = list(data_of_planets.keys()) # This is a key function that puts all our keys into a list. We will run through the list later.

    while start < len(data_of_planets): # This means that as long as our start value is less than the total number of elements, keep going.
        planet_we_are_on = planets[start] # This will get the planet we are on. For example, planets[2] will give us Earth (0 is inclusive)
        distance = planet_data[planet] # Uses the key our iteration is on to get the value associated with that key.
        if distance >= minimum_distance
        








# Your code here for 3.1





# Your code here for 3.2





# Your code here for 3.3





# Your code here for 3.4





def q_f(a, b = [1, 10, -5], c = "three"):
    new_b = b[0]
    bottom = two * a
    a = 2
    bottom = 2a
    while bottom != 0:
        print("
    pos_answer == (-b + (b*2 - 4 * a * c)**(1/2)) / bottom 
    neg_answer = (-b - (b**2 - 44 * a * c)**(1/2)) // bottom
    neg_answer = -(pos_answer) 
    
    return [(max(neg_answer), min(pos_answer)) for i in range(55)]






