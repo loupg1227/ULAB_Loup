{
 "cells": [
  {
   "cell_type": "markdown",
   "id": "21a1f0d2-d75c-4443-b816-1d1db3760454",
   "metadata": {},
   "source": [
    "# HW 6 - Iterables\n",
    "ULAB - Physics and Astronomy Division \\\n",
    "Due **Wednesday, October 30th, 2024 at 11:59pm** on Gradescope\n",
    "\n",
    "### REMINDER: Once you are done with this homework, make sure to include a screenshot of you pushing this notebook inside of your homework6 branch. Make sure to include this screenshot in your branch before submitting to Gradescope!\n",
    "\n",
    "### If there is no screenshot, then you will recieve a zero! \n",
    "\n",
    "General Tip (so you don't get silly points taken off):\n",
    "- Make sure **each function** follows good coding practices (i.e. a comment, detailed names, different steps on each line, etc)."
   ]
  },
  {
   "cell_type": "markdown",
   "id": "8dc7e46b-1e8e-486c-a2e9-d615c687028b",
   "metadata": {},
   "source": [
    "# 1 Lists\n",
    "\n",
    "## 1.1 List Slicing and Striding\n",
    "Write a **function** that takes in a list of integers and returns:\n",
    "\n",
    "- the first 5 elements\n",
    "- the last 5 elements\n",
    "- every 2nd element in the list\n",
    "- the list in reverse order.\n",
    "\n",
    "Use the test case below, along with two other ones (that you make-up):\n",
    "\n",
    "```\n",
    "list = [1, 2, 3, 4, 5, 6, 7, 8, 9, 10, 11, 12, 14, 15, 16, 17, 18, 19, 20]\n",
    "```"
   ]
  },
  {
   "cell_type": "code",
   "execution_count": 22,
   "id": "08dabd73-3dbc-4aab-843a-d4b81102835d",
   "metadata": {},
   "outputs": [
    {
     "name": "stdout",
     "output_type": "stream",
     "text": [
      "([1, 2, 3, 4, 5], [16, 17, 18, 19, 20], [1, 3, 5, 7, 9, 11, 14, 16, 18, 20], [20, 19, 18, 17, 16, 15, 14, 12, 11, 10, 9, 8, 7, 6, 5, 4, 3, 2, 1])\n",
      "([23, 567, 809, 23, 90], [567, 809, 23, 90, 2], [23, 809, 90], [2, 90, 23, 809, 567, 23])\n",
      "([42, 17, 89, 23, 56], [3, 78, 61, 34, 90], [42, 89, 56, 78, 34], [90, 34, 61, 78, 3, 56, 23, 89, 17, 42])\n"
     ]
    }
   ],
   "source": [
    "def return_elements_in_a_list(list): #This was the simplest descriptive name I could come up with for this function\n",
    "    \n",
    "    first_five = [] # Empty array where the first 5 numbers will go \n",
    "    for i in range(5): # Range will take in values going from the first to the 5th, so the for loop will run 5 times.\n",
    "        first_five.append(list[i]) # This will take the first 5 numbers (through the range function) and append them to this empty array\n",
    "\n",
    "    last_five = [] # Empty array where the first 5 numbers will go\n",
    "    for i in range(len(list) -5, len(list)): #Len(list) -5 starts the for loop at the 5th to last element in the list\n",
    "                                                    # Len(list) stops the loop at the last element\n",
    "        last_five.append(list[i]) # This will do the same as first_five, but it will start at whatever the last 5 numbers are.\n",
    "\n",
    "    every_2nd_element = []\n",
    "    for i in range(0, len(list), 2): #0 means the for loop with the first element, \n",
    "                                     #len(numbers) is the upper limit which is the length\n",
    "                                     #2 is the step size, \n",
    "        every_2nd_element.append(list[i])\n",
    "\n",
    "    reversed_list = []\n",
    "    for i in range(len(list) - 1, -1, -1): #Len(list) -1 starts the for loop at the last element in the list\n",
    "                                           # -1 stops the loop before going past the first element of the list (which is now the last)\n",
    "                                           # -1 Just like the 2nd element list, this is the step size, which is backwards from the last element.\n",
    "        reversed_list.append(list[i])\n",
    "        \n",
    "    return first_five, last_five, every_2nd_element, reversed_list\n",
    "\n",
    "x = [1, 2, 3, 4, 5, 6, 7, 8, 9, 10, 11, 12, 14, 15, 16, 17, 18, 19, 20]\n",
    "print(return_elements_in_a_list(x))\n",
    "\n",
    "y = [23, 567, 809, 23, 90, 2]\n",
    "print(return_elements_in_a_list(y))\n",
    "\n",
    "z = [42, 17, 89, 23, 56, 3, 78, 61, 34, 90]\n",
    "print(return_elements_in_a_list(z))"
   ]
  },
  {
   "cell_type": "markdown",
   "id": "92c77920-20fc-455e-bf52-10b5a518ed2d",
   "metadata": {},
   "source": [
    "## 1.2 Iterating Over Lists with For Loops\n",
    "Write a **function** that takes in a list, with a **for** loop to return: \n",
    "- the square of each number in the list\n",
    "- the cube of each even number in the list\n",
    "\n",
    "Use the test case below, along with two other ones (that you make-up):\n",
    "\n",
    "```\n",
    "list = [1, 2, 3, 4, 5, 6]\n",
    "```"
   ]
  },
  {
   "cell_type": "code",
   "execution_count": 23,
   "id": "5054c807-a247-4159-9ce1-43020bcc3000",
   "metadata": {},
   "outputs": [
    {
     "name": "stdout",
     "output_type": "stream",
     "text": [
      "([1, 4, 9, 16, 25, 36], [1, 8, 27, 64, 125, 216])\n",
      "([529, 256, 1936, 64, 9604, 20164], [12167, 4096, 85184, 512, 941192, 2863288])\n",
      "([400, 1849, 5776, 144], [8000, 79507, 438976, 1728])\n"
     ]
    }
   ],
   "source": [
    "def squares_and_cubes(list): #This function will take in one list and return 2, one with the values squared, another with cubed values.\n",
    "    \n",
    "    squares = []  #As before, this is our empty array        \n",
    "    for i in list: #For loop runs through each element in the list\n",
    "        i = i**2 #i will \"update itself\" to be the squared value of itself\n",
    "        squares.append(i) #Appending our new i values to our empty array\n",
    "\n",
    "    cubes = [] #Same as before, this is our empty array\n",
    "    for i in list: #For loop runs through each element in the list\n",
    "        i = i**3 #i will \"update itself\" to be the cubed value of itself\n",
    "        cubes.append(i) #Appending our new i values to our empty array\n",
    "\n",
    "    return squares, cubes\n",
    "\n",
    "x = [1, 2, 3, 4, 5, 6]\n",
    "print(squares_and_cubes(x))\n",
    "\n",
    "y = [23, 16, 44, 8, 98, 142]\n",
    "print(squares_and_cubes(y))\n",
    "\n",
    "z = [20, 43, 76, 12]\n",
    "print(squares_and_cubes(z))"
   ]
  },
  {
   "cell_type": "markdown",
   "id": "e2e075da-c004-400d-b796-5435e096816d",
   "metadata": {},
   "source": [
    "# 2 Dictionaries\n",
    "We have not fully covered **dictionaries** in class, but a **dictionary** is a collection of key-value pairs. Each key is unique and is associated with a specific value. Like a real dictionary! \n",
    "\n",
    "You can create a dictionary by placing key-value pairs inside of curly brackets `{}` with a `:` separating the key from the value. \n",
    "\n",
    "Run the cell below for an example:"
   ]
  },
  {
   "cell_type": "code",
   "execution_count": 24,
   "id": "dbdb0f41-4f57-4524-ab51-ff1fc502bdfc",
   "metadata": {},
   "outputs": [
    {
     "name": "stdout",
     "output_type": "stream",
     "text": [
      "{'Mercury': 0.39, 'Venus': 0.72, 'Earth': 1.0, 'Mars': 1.52, 'Jupiter': 5.2, 'Saturn': 9.58, 'Uranus': 19.22, 'Neptune': 30.05}\n"
     ]
    }
   ],
   "source": [
    "# A dictionary that contains some data about the planets in our solar system\n",
    "planet_data = {\n",
    "    \"Mercury\": 0.39, \n",
    "    \"Venus\": 0.72,\n",
    "    \"Earth\": 1.00, # distance from the Sun in AU\n",
    "    \"Mars\": 1.52,\n",
    "    \"Jupiter\": 5.20,\n",
    "    \"Saturn\": 9.58,\n",
    "    \"Uranus\": 19.22,\n",
    "    \"Neptune\": 30.05\n",
    "}   \n",
    "\n",
    "print(planet_data) # print the dictonary"
   ]
  },
  {
   "cell_type": "markdown",
   "id": "886c93f4-0027-4969-ba67-cc12eca04c9c",
   "metadata": {},
   "source": [
    "## 2.1 Looping through a dictionary\n",
    "Write a function that takes in the `planet_data` dictionary and uses a `for` loop to print the names of each of the planets and its distance from the sun."
   ]
  },
  {
   "cell_type": "code",
   "execution_count": 30,
   "id": "a3ab065a-42f5-4aa0-8e0f-38e87c583464",
   "metadata": {},
   "outputs": [
    {
     "name": "stdout",
     "output_type": "stream",
     "text": [
      "Planet: Mercury Distance to the sun: 0.39 AU\n",
      "Planet: Venus Distance to the sun: 0.72 AU\n",
      "Planet: Earth Distance to the sun: 1.0 AU\n",
      "Planet: Mars Distance to the sun: 1.52 AU\n",
      "Planet: Jupiter Distance to the sun: 5.2 AU\n",
      "Planet: Saturn Distance to the sun: 9.58 AU\n",
      "Planet: Uranus Distance to the sun: 19.22 AU\n",
      "Planet: Neptune Distance to the sun: 30.05 AU\n"
     ]
    }
   ],
   "source": [
    "def printing_planetary_data(data_of_planets):\n",
    "    for i in data_of_planets: #For loop goes through each element of the dictionary.\n",
    "        distance = data_of_planets[i] #Gets the distance from the sun of each planet from the dictionary. It pulls the distance value associated\n",
    "                                      # with the planet that we are on. If we are on Neptune, it will pull 30.05. The planet's name is the key to the value.\n",
    "        print(\"Planet:\", i, \"Distance to the sun:\", distance, \"AU\")\n",
    "\n",
    "x = planet_data\n",
    "printing_planetary_data(x)"
   ]
  },
  {
   "cell_type": "markdown",
   "id": "2b38b6fb-ce68-4f20-a8a1-ba241e8db53e",
   "metadata": {},
   "source": [
    "## 2.2 Dictionaries and Conditionals\n",
    "Write a function that uses a while loop to print all the planets that are a minimum distance of 5 AU from the Sun. "
   ]
  },
  {
   "cell_type": "code",
   "execution_count": 36,
   "id": "6e07cf13-efba-4a75-ad75-0428dc31108d",
   "metadata": {},
   "outputs": [
    {
     "name": "stdout",
     "output_type": "stream",
     "text": [
      "Planet: Jupiter Distance from sun: 5.2 AU\n",
      "Planet: Saturn Distance from sun: 9.58 AU\n",
      "Planet: Uranus Distance from sun: 19.22 AU\n",
      "Planet: Neptune Distance from sun: 30.05 AU\n"
     ]
    }
   ],
   "source": [
    "def distance_greater_than_5au(data_of_planets): \n",
    "    minimum_distance = 5 # We set the minimum distance required to be included in our output\n",
    "    \n",
    "    start = 0 # This will make sure we start with the 1st planet.\n",
    "    \n",
    "    planets = list(data_of_planets.keys()) # This is a key function that puts all our keys into a list. We will run through the list later.\n",
    "\n",
    "    while start < len(data_of_planets): # This means that as long as our start value is less than the total number of elements, keep going.\n",
    "        planet_we_are_on = planets[start] # This will get the planet we are on. For example, planets[2] will give us Earth (0 is inclusive)\n",
    "        \n",
    "        distance = planet_data[planet_we_are_on] # Uses the key our iteration is on to get the value associated with that key.\n",
    "        \n",
    "        if distance >= minimum_distance: #This will check whether the particular planet we're on fits the criteria\n",
    "            print(\"Planet:\", planet_we_are_on, \"Distance from sun:\", distance, \"AU\")\n",
    "\n",
    "        start += 1 #This will make sure that the next time our start value runs, it adds 1 and moves on to the next planet\n",
    "\n",
    "x = planet_data\n",
    "distance_greater_than_5au(x)        "
   ]
  },
  {
   "cell_type": "markdown",
   "id": "5e1ba0c0-5dd9-44e8-895c-73a36d614949",
   "metadata": {},
   "source": [
    "# 3 Observing Stars in a Cluster\n",
    "Your goal is to calculate the total brightness of a group of stars in a star cluster and estimate how long it would take for a telescope to observer each star, depending on their brightness (magnitude). Here is some background information:\n",
    "- The brightness of a star, from a telescope, is measured by its **apparent magnitude**, a LOWER magnitude means a brighter star. A HIGHER magnitude means a fainter star. So a 4th magnitude star is much brighter than a 17th magnitude star.\n",
    "- To convert magnitude into brightness, use the following formula\n",
    "$$\n",
    "\\text{Brightness} = 10^{-\\frac{\\text{magnitude}}{2.5}}\n",
    "$$\n",
    "\n",
    "Use this list of magnitudes and time limit:\n",
    "\n",
    "```\n",
    "magnitudes = [12.5, 13.2, 14.8, 19.1, 21.0, 18.5, 15.3, 10.5, 23.0]\n",
    "time_limit = 500\n",
    "```\n",
    "\n",
    "Expected outcome (your solutions with be the answers to the ???):\n",
    "- Total brightness of the stars: ???\n",
    "- Total observation time for all observable stars: ???\n",
    "- Number of stars that can be observed within 500 seconds: ???"
   ]
  },
  {
   "cell_type": "markdown",
   "id": "336785a7-71bf-434d-982c-dd72dd29cf71",
   "metadata": {},
   "source": [
    "## 3.1 Calculate Brightness\n",
    "1) Write a **function** which inputs a list of star magnitudes (brightnesses).\n",
    "2) Inside your function, use a `for` loop to calculate (with the given formula) the brightness of each star.\n",
    "3) Inside your function, use a `for` loop to sum up the total brightness of all the stars.\n",
    "5) Have your function return the **total brightness** of all the stars and a **list of the brightnesses** of the stars.\n",
    "6) Test out your function with the **given** magnitude values."
   ]
  },
  {
   "cell_type": "code",
   "execution_count": 50,
   "id": "ccc331f4-c029-4a82-810b-4a78d0fa1a2a",
   "metadata": {},
   "outputs": [
    {
     "data": {
      "text/plain": [
       "([1e-05,\n",
       "  5.248074602497734e-06,\n",
       "  1.2022644346174132e-06,\n",
       "  2.29086765276777e-08,\n",
       "  3.981071705534969e-09,\n",
       "  3.981071705534969e-08,\n",
       "  7.585775750291836e-07,\n",
       "  6.309573444801929e-05,\n",
       "  6.309573444801942e-10],\n",
       " 8.037198248279666e-05)"
      ]
     },
     "execution_count": 50,
     "metadata": {},
     "output_type": "execute_result"
    }
   ],
   "source": [
    "def brightness_of_cluster(magnitudes): # This function takes in apparent magnitudes from stars and returns the total brightness. \n",
    "\n",
    "    brightness_of_each_star = [] #Empty array where we will store the brightness of each star based on apparent magnitude.\n",
    "    for i in magnitudes: # For loop will run through every element in magnitudes.\n",
    "        brightness = (10 ** (-i/2.5)) # At the iteration we are working in, the function will convert the magnitude to a brightness\n",
    "        brightness_of_each_star.append(brightness) # Here, the function will append those brightnesses into the empty array.\n",
    "\n",
    "    total_brightness = sum(brightness_of_each_star) # From the brightness array, we now sum up the entire array to get a total value. \n",
    "    return (brightness_of_each_star, (total_brightness)) # Our first output will be each star brightness value, and the second the total.\n",
    "\n",
    "x = [12.5, 13.2, 14.8, 19.1, 21.0, 18.5, 15.3, 10.5, 23.0]\n",
    "brightness_of_cluster(x)"
   ]
  },
  {
   "cell_type": "markdown",
   "id": "9aff0e1c-9f88-4ebb-a05b-d39363d9e88e",
   "metadata": {},
   "source": [
    "## 3.2 Observation Time\n",
    "1) Write a **function** which inputs a list of star magnitudes (brightnesses).\n",
    "2) Inside your function, use a `for` loop to calculate the time to observe each star.\n",
    "- You can just assume each star's observation time is inversely proportional to its brightness with the following formula:\n",
    "\n",
    "$$\n",
    "\\text{Observation Time (in seconds)} \\propto \\frac{1}{\\text{Brightness}} \n",
    "$$\n",
    "\n",
    "3) Inside you function, write a `condition` that ignores stars that have a magnitude greater than 20 (very very faint stars).\n",
    "4) Have your function return the **total observation time** (ignoring >20 magnitudes) and a **list of the times** it would take to observe each individual star.\n",
    "5) Test out your function with the **given** magnitude values."
   ]
  },
  {
   "cell_type": "code",
   "execution_count": 72,
   "id": "044d17cf-82a8-44b6-8958-447632f713f6",
   "metadata": {},
   "outputs": [
    {
     "data": {
      "text/plain": [
       "(0.49033279068388397,\n",
       " [0.08,\n",
       "  0.07575757575757576,\n",
       "  0.06756756756756756,\n",
       "  0.05235602094240837,\n",
       "  0.05405405405405406,\n",
       "  0.06535947712418301,\n",
       "  0.09523809523809523])"
      ]
     },
     "execution_count": 72,
     "metadata": {},
     "output_type": "execute_result"
    }
   ],
   "source": [
    "def observation_time(magnitudes): # This function will take apparent magnitudes and determine the time of observation\n",
    "    minimum_mag = 20 # Sets a minimum magnitude value that stars CANNOT exceed.\n",
    "    time_per_star = [] # Empty array where we will put the time value for each star. \n",
    "    for i in magnitudes: # For loop will run through every element in magnitudes.\n",
    "        if i < minimum_mag: # This part sets up the condition that only i values (current iterating magnitude) that are less than 20 will work. \n",
    "            time_of_star = (1/i) # This converts our magnitude value into a time value. \n",
    "            time_per_star.append(time_of_star) # Appends those time values into our empty array where we will store them for now.\n",
    "\n",
    "    total_time = sum(time_per_star) # We now sum up the entire array to get a total time value for the cluster\n",
    "\n",
    "    return total_time, time_per_star # Our first input will be the total observation time of all stars, second output will be each individual time.\n",
    "\n",
    "x = [12.5, 13.2, 14.8, 19.1, 21.0, 18.5, 15.3, 10.5, 23.0]\n",
    "observation_time(x)     "
   ]
  },
  {
   "cell_type": "markdown",
   "id": "102d3c15-0b4f-48a7-8fdc-f896c1841aca",
   "metadata": {},
   "source": [
    "## 3.3 Time Until the Limit\n",
    "1) Write a **function** which inputs a list of star magnitudes (brightnesses) and time limit.\n",
    "   - Make your time limit a default argument.\n",
    "2) Inside your function, make a counter called `total time` and set it to 0.\n",
    "3) Inside your function, use a `while` loop to set the time limit of your observation.\n",
    "4) Inside your function, use assigment operators to update the `total time` observed. \n",
    "5) Inside your function, use a `condition` to skip stars with magnitude 20 or greater. \n",
    "6) Have your function return the **number of stars that can be observed** within the time limit and **how long the observation will take** (this should be less than the time limit).\n",
    "7) Test out your function with the **given** magnitude values and time limit."
   ]
  },
  {
   "cell_type": "code",
   "execution_count": 73,
   "id": "5a541a62-0903-41bd-91c9-ee21172069a3",
   "metadata": {},
   "outputs": [
    {
     "data": {
      "text/plain": [
       "'Total Star Count = 7, Total Time = 0.49033279068388397'"
      ]
     },
     "execution_count": 73,
     "metadata": {},
     "output_type": "execute_result"
    }
   ],
   "source": [
    "def observation_with_time_limit(magnitudes, time_limit=500): # Now we have a restriction, our function should stop after we have reached 500 seconds of viewing time.\n",
    "    total_time = 0 # This is our counter for time, which we set to 0 at the very start\n",
    "    count_stars = 0 # This is another counter for the number of stars we can observe (only gets changed if the time and magnitude conditions are met)\n",
    "\n",
    "    start = 0 # This is our start index, meaning we will start at the 1st element in magnitudes. \n",
    "    while total_time < time_limit and start < len(magnitudes): # 2 conditions met here at the same time: our start index can't exceed the total amount of elements in magnitude and the total time must be lower than the time limit.\n",
    "        magnitude = magnitudes[start] # This gets the current iterating star's magnitude.\n",
    "\n",
    "        if magnitude < 20: # Condition to make sure that our star has a magnitude of less than 20\n",
    "            time_of_star = 1 / magnitude # Converts the magnitude into a time value. \n",
    "            if total_time + time_of_star < time_limit: # This makes sure that when we add the observation time of the current star to the total time, it won't exceed the limit. For example, if total time = 490 and time of star = 12, the function will stop.\n",
    "                total_time += time_of_star # This just updates the total time to be the total time initially + the time of the star. \n",
    "                count_stars += 1 # If our star meets all the conditions, it is an observable star, and we add one to our star counter. \n",
    "\n",
    "        start += 1 # We add 1 to our start index so that we can move on to the next element in our magnitudes array.\n",
    "\n",
    "    return f'Total Star Count = {count_stars}, Total Time = {total_time}'\n",
    "\n",
    "x = [12.5, 13.2, 14.8, 19.1, 21.0, 18.5, 15.3, 10.5, 23.0]\n",
    "observation_with_time_limit(x)"
   ]
  },
  {
   "cell_type": "markdown",
   "id": "d2ab246f-9570-483e-b35b-cf1056f20936",
   "metadata": {},
   "source": [
    "## 3.4 Call Upon Your Functions\n",
    "You do not need to rewrite your functions once you have written them! That's what is so awesome about **functions**! \n",
    "\n",
    "1) With a new test case (different magnitudes and time limit) call your three functions you wrote above.\n",
    "2) Print out their return statements, example:\n",
    "\n",
    "```\n",
    ">>> my_return = my_function(my_argument):\n",
    ">>> print(my_return)\n",
    "```"
   ]
  },
  {
   "cell_type": "code",
   "execution_count": 78,
   "id": "4c4c9389-04f5-49bc-823c-a12d6c003b60",
   "metadata": {},
   "outputs": [
    {
     "name": "stdout",
     "output_type": "stream",
     "text": [
      "([0.251188643150958, 0.05248074602497726, 0.013182567385564068, 0.003981071705534973, 0.12022644346174131, 0.00022908676527677748, 0.4786300923226383, 0.005754399373371573, 0.0010964781961431851, 0.02754228703338166], 0.9543118154195871)\n",
      "(3.723388829482724, [0.6666666666666666, 0.3125, 0.2127659574468085, 0.16666666666666666, 0.4347826086956522, 0.10989010989010989, 1.25, 0.17857142857142858, 0.13513513513513511, 0.25641025641025644])\n",
      "Total Star Count = 10, Total Time = 3.7233888294827238\n"
     ]
    }
   ],
   "source": [
    "new_test_case = [1.5, 3.2, 4.7, 6.0, 2.3, 9.1, 0.8, 5.6, 7.4, 3.9]\n",
    "\n",
    "print(brightness_of_cluster(new_test_case))\n",
    "\n",
    "print(observation_time(new_test_case))\n",
    "\n",
    "print(observation_with_time_limit(new_test_case))"
   ]
  },
  {
   "cell_type": "markdown",
   "id": "daba92d4-a646-4efc-824d-85b52ea3c573",
   "metadata": {},
   "source": [
    "# 4 Debug the Quadratic Function!\n",
    "The code below does not follow proper coding hygiene (good coding sklls) and is riddled with bugs! Answer the following question and follow the steps below:\n",
    "1) When you run the cell, what is the first error you get? What does this mean? What are three other things wrong with this function?\n",
    "2) Fix the bugs! No importing packages.\n",
    "3) Rewrite the code, such that it follows \"good coding skills\".\n",
    "\n",
    "Try out the test case of `a = 2`, `b = -5` and `c = 3`. You should get `(1.5, 1.0)`. Try out your own test case as well."
   ]
  },
  {
   "cell_type": "code",
   "execution_count": 83,
   "id": "cd66dd28-f8d3-447c-8d20-ff3e31bfaa07",
   "metadata": {},
   "outputs": [
    {
     "name": "stdout",
     "output_type": "stream",
     "text": [
      "(1.5, 1.0)\n",
      "((-0.6666666666666666+1.1055415967851332j), (-0.6666666666666666-1.1055415967851332j))\n",
      "((-1.3333333333333333+1.247219128924647j), (-1.3333333333333333-1.247219128924647j))\n"
     ]
    }
   ],
   "source": [
    "#def q_f(a, b = [1, 10, -5], c = \"three\"):\n",
    "   # new_b = b[0]\n",
    "    #bottom = two * a\n",
    "    #a = 2\n",
    "    #bottom = 2a\n",
    "    #while bottom != 0:\n",
    "     #   print(\"\n",
    "   # pos_answer == (-b + (b*2 - 4 * a * c)**(1/2)) / bottom \n",
    "    #neg_answer = (-b - (b**2 - 44 * a * c)**(1/2)) // bottom\n",
    "    #neg_answer = -(pos_answer) \n",
    "    \n",
    "    #return [(max(neg_answer), min(pos_answer)) for i in range(55)]\n",
    "\n",
    "\n",
    "# The first error is that bottom = 2a. If we wanted to multiply we would need the * symbol.\n",
    "# The code is very unclear (no comments, variables are weird), the inputs are defined incorrectly, the while loop is also written incorrectly\n",
    "# For some reason the variables are being set inside the function meaning even if it did work, it would only work for one instance.\n",
    "\n",
    "def quadratic_formula(a, b, c): #Correct quadratic formula written in a tedious way because no numpy :(\n",
    "    inside_square_root = (b ** 2) - (4 * a * c) # Computes the inside of the square root\n",
    "    square_root = inside_square_root ** (1/2) # Computes the square root itself\n",
    "    positive_form = ((b * -1) + square_root) / (2 * a) #Computes the positive value (+ version)\n",
    "    negative_form = ((b * -1) - square_root) / (2 * a) #Computes the negative version (- version)\n",
    "    return positive_form, negative_form # Outputs are both of our found values. \n",
    "\n",
    "print(quadratic_formula(2, -5, 3))\n",
    "print(quadratic_formula(3, 4, 5))\n",
    "print(quadratic_formula(3, 8, 10))"
   ]
  },
  {
   "cell_type": "markdown",
   "id": "8cf33b19-9bca-484e-8129-d8a4896a1bfa",
   "metadata": {},
   "source": [
    "# 5 Proper Submission\n",
    "To recieve full credit for this assignment make sure you do the following:\n",
    "1) Copy this jupter notebook from the `ulab_2024` repository into **YOUR** local `homework` branch.\n",
    "   \n",
    "3) Follow the tasks. Make sure to run all the cells so that all output is visible.\n",
    "   \n",
    "5) Push this notebook to your remote `homework6` branch. Refer to the lecture slides for more information.\n",
    "      \n",
    "6) **WARNING!! IF YOU DO NOT FOLLOW THIS STEP YOU WILL RECIEVE A ZERO!**\n",
    "   1) Take a screenshot of your command line when you `push` this notebook from your local `homework6` branch to your remote `homework6` branch. Make sure to prove that you are inside a branch besides `main` or `master` by calling `git branch` and make sure to prove that your `homework6` branch only contains the homework4 folder of Jupyter Notebook you copied over from `ulab_2024` (which can be done by calling `ls`). You could also call `git status` before/after as a way to prove you pushed the proper files to the correct branches.\n",
    "   2)  Include that screenshot in your remote branch when you upload your GitHub branch to Gradescope!"
   ]
  },
  {
   "cell_type": "code",
   "execution_count": null,
   "id": "b0926042-d1cf-4a2e-8fc8-d93395a6a7cf",
   "metadata": {},
   "outputs": [],
   "source": []
  }
 ],
 "metadata": {
  "kernelspec": {
   "display_name": "Python 3 (ipykernel)",
   "language": "python",
   "name": "python3"
  },
  "language_info": {
   "codemirror_mode": {
    "name": "ipython",
    "version": 3
   },
   "file_extension": ".py",
   "mimetype": "text/x-python",
   "name": "python",
   "nbconvert_exporter": "python",
   "pygments_lexer": "ipython3",
   "version": "3.12.3"
  }
 },
 "nbformat": 4,
 "nbformat_minor": 5
}
